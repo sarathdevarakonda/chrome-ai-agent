{
 "cells": [
  {
   "cell_type": "code",
   "execution_count": 78,
   "metadata": {},
   "outputs": [],
   "source": [
    "from vapp.package_manager import PackageManager\n",
    "from vapp.types import ICommand, IContextObject, IFrameData, VApp"
   ]
  },
  {
   "cell_type": "code",
   "execution_count": 79,
   "metadata": {},
   "outputs": [],
   "source": [
    "%run gptautomator/chat_gpt_automator.py\n",
    "%run gptautomator/chat_gpt_session.py\n",
    "from gptautomator.chat_gpt_chrome import ChatGPTChrome\n"
   ]
  },
  {
   "cell_type": "code",
   "execution_count": 82,
   "metadata": {},
   "outputs": [],
   "source": [
    "from selenium.webdriver.common.by import By\n",
    "from selenium.webdriver.common.keys import Keys\n"
   ]
  },
  {
   "cell_type": "code",
   "execution_count": 80,
   "metadata": {},
   "outputs": [],
   "source": [
    "class ChromeVapp(VApp):\n",
    "    def __init__(self):\n",
    "        super().__init__()"
   ]
  },
  {
   "cell_type": "code",
   "execution_count": 81,
   "metadata": {},
   "outputs": [],
   "source": [
    "class WebDriverContextObject(IContextObject):\n",
    "\n",
    "    \n",
    "    def _create_value(self):\n",
    "        chrome_driver = self.webdriver_pkg.webdriver.Chrome()\n",
    "        return chrome_driver\n",
    "    \n",
    "    def __init__(self):\n",
    "        package_manager = PackageManager()\n",
    "        self.selenium_pkg = package_manager.get_package('selenium', 'selenium')\n",
    "        self.webdriver_pkg = package_manager.get_package('selenium', 'selenium.webdriver')\n",
    "        if not self.selenium_pkg:\n",
    "            raise Exception(\"Selenium package is not installed.\")\n",
    "        if not self.webdriver_pkg:\n",
    "            raise Exception(\"WebDriver submodule is not available in the Selenium package.\")\n",
    "\n",
    "        self.value = self._create_value()\n",
    "\n",
    "    def destroy(self):\n",
    "        if self.value:\n",
    "            self.value.quit()\n"
   ]
  },
  {
   "cell_type": "code",
   "execution_count": null,
   "metadata": {},
   "outputs": [],
   "source": [
    "class ClickCommand(ICommand):\n",
    "    def do_run(self, context_store, *args):\n",
    "        if len(args) < 1:\n",
    "            print(\"XPath argument is missing.\")\n",
    "            return\n",
    "\n",
    "        xpath = args[0]\n",
    "        driver = context_store.get(\"driver\").value\n",
    "        if driver:\n",
    "            try:\n",
    "                element = driver.find_element(By.XPATH,xpath)\n",
    "                element.click()\n",
    "                print(f\"Clicked element with XPath: {xpath}\")\n",
    "            except Exception as e:\n",
    "                print(f\"exception at {e}\")\n",
    "        else:\n",
    "            print(\"WebDriver not found in context store.\")"
   ]
  },
  {
   "cell_type": "code",
   "execution_count": 83,
   "metadata": {},
   "outputs": [],
   "source": [
    "\n",
    "class SendKeysCommand(ICommand):\n",
    "    def do_run(self, context_store, *args):\n",
    "        if len(args) < 2:\n",
    "            print(\"XPath and keys argument are missing.\")\n",
    "            return\n",
    "\n",
    "        xpath = args[0]\n",
    "        keys_to_send = args[1]\n",
    "        driver = context_store.get(\"driver\").value\n",
    "        if driver:\n",
    "            try:\n",
    "                element = driver.find_element(By.XPATH,xpath)\n",
    "                element.send_keys(keys_to_send)\n",
    "                print(f\"Sent keys '{keys_to_send}' to element with XPath: {xpath}\")\n",
    "            except Exception as e:\n",
    "                print(f\"Exception: {e}\")\n",
    "        else:\n",
    "            print(\"WebDriver not found in context store.\")\n"
   ]
  },
  {
   "cell_type": "code",
   "execution_count": 84,
   "metadata": {},
   "outputs": [],
   "source": [
    "class OpenUrlCommand(ICommand):\n",
    "    def do_run(self, context_store, *args):\n",
    "        if len(args) < 1:\n",
    "            return \"XPath argument is missing.\"\n",
    "\n",
    "        url = args[0]\n",
    "        driver = context_store.get(\"driver\").value\n",
    "        print(driver)\n",
    "        if driver:\n",
    "            try:\n",
    "                driver.get(url)\n",
    "                return driver\n",
    "            except Exception as e:\n",
    "                print(e)\n",
    "                return e\n",
    "        else:\n",
    "            return \"WebDriver not found in context store.\"\n"
   ]
  },
  {
   "cell_type": "code",
   "execution_count": 72,
   "metadata": {},
   "outputs": [],
   "source": [
    "class PageTabNavigatedElements(IFrameData):\n",
    "    def __init__(self):\n",
    "        self.common = None\n",
    "        self.io_module = None\n",
    "        self.time_module = None\n",
    "        self.csv_package = None\n",
    "        self._initialize_modules()\n",
    "\n",
    "    def _initialize_modules(self):\n",
    "        sel = PackageManager().get_package('selenium','selenium.webdriver.common')\n",
    "        self.common = sel.webdriver.common\n",
    "        self.by = self.common.by\n",
    "        self.keys = self.common.keys\n",
    "        self.io_module = PackageManager().get_package(None,'io')\n",
    "        self.time_module = PackageManager().get_package(None,'time')\n",
    "        self.csv_package = PackageManager().get_package(None,'csv')\n",
    "        self.javascript =  \"\"\"\n",
    "            function getElementXPath(elt) {\n",
    "                var path = \"\";\n",
    "                for (; elt && elt.nodeType == 1; elt = elt.parentNode) {\n",
    "                    var idx = getElementIdx(elt);\n",
    "                    var xname = elt.tagName;\n",
    "                    if (idx > 1) xname += \"[\" + idx + \"]\";\n",
    "                    path = \"/\" + xname + path;\n",
    "                }\n",
    "                return path;\n",
    "            }\n",
    "\n",
    "            function getElementIdx(elt) {\n",
    "                var count = 1;\n",
    "                for (var sib = elt.previousSibling; sib ; sib = sib.previousSibling) {\n",
    "                    if (sib.nodeType == 1 && sib.tagName == elt.tagName) count++;\n",
    "                }\n",
    "                return count;\n",
    "            }\n",
    "\n",
    "            return getElementXPath(arguments[0]);\n",
    "            \"\"\"\n",
    "\n",
    "\n",
    "    def get_frame_data(self, context_store):\n",
    "        \n",
    "        if not all([self.common, self.io_module, self.time_module, self.csv_package]):\n",
    "            print(\"Failed to import necessary modules.\")\n",
    "            return None\n",
    "\n",
    "        driver = context_store.get(\"driver\").value\n",
    "        if not driver:\n",
    "            print(\"WebDriver instance not found in context store.\")\n",
    "            return None\n",
    "        initial_element = driver.find_element(self.by.By.TAG_NAME, \"body\")\n",
    "        # List to store data related to focused elements\n",
    "        data = []\n",
    "        elements = []\n",
    "        visited_elements = set()\n",
    "        headers = ['ELEMENT_INDEX', 'TAG', 'TEXT', 'ID', 'NAME', 'INPUT_TYPE', 'VALUE', 'PLACEHOLDER', 'HREF','XPATH']\n",
    "        for i in range(50):\n",
    "            self.time_module.sleep(1)\n",
    "            initial_element.send_keys(self.keys.Keys.TAB)\n",
    "            # Get the currently focused element\n",
    "            focused_element = driver.switch_to.active_element\n",
    "            elements.insert(i, focused_element)\n",
    "            # Extract relevant information\n",
    "            tag_name = focused_element.tag_name\n",
    "            class_name = focused_element.get_attribute(\"class\")\n",
    "            input_value = focused_element.get_attribute(\"value\")\n",
    "            id = focused_element.get_attribute(\"id\")\n",
    "            placeholder = focused_element.get_attribute(\"placeholder\")\n",
    "            name = focused_element.get_attribute(\"name\")\n",
    "            text = focused_element.text if tag_name != \"body\" else None\n",
    "            input_type = focused_element.get_attribute(\"type\") if tag_name == \"input\" else None\n",
    "            href = focused_element.get_attribute(\"href\") if tag_name == \"a\" else None\n",
    "            xpath = \"XPATH: \"+driver.execute_script(self.javascript, focused_element)\n",
    "            \n",
    "            data.append({\n",
    "                \"ELEMENT_INDEX\": i,\n",
    "                \"TAG\": tag_name,\n",
    "                \"TEXT\": text,\n",
    "                \"ID\": id,\n",
    "                \"NAME\": name,\n",
    "                \"VALUE\": input_value,\n",
    "                \"PLACEHOLDER\": placeholder,\n",
    "                \"INPUT_TYPE\": input_type,\n",
    "                \"HREF\": href,\n",
    "                \"XPATH\": xpath\n",
    "            })\n",
    "            text_small = focused_element.text[:10] if tag_name != \"body\" else None\n",
    "            element_identifier = (tag_name, id, text_small, class_name)\n",
    "            if element_identifier in visited_elements:\n",
    "                break  # Exit loop if the element has been visited before\n",
    "            else:\n",
    "                visited_elements.add(element_identifier)\n",
    "\n",
    "        csv_buffer = self.io_module.StringIO()\n",
    "        writer = self.csv_package.DictWriter(csv_buffer, fieldnames=headers)\n",
    "        writer.writeheader()\n",
    "        for item in data:\n",
    "            writer.writerow(item)\n",
    "\n",
    "        # Get CSV data as a string\n",
    "        csv_data = csv_buffer.getvalue()\n",
    "\n",
    "        initial_element.send_keys(self.keys.Keys.CONTROL + 'l')\n",
    "        \n",
    "        return csv_data\n",
    "\n",
    "# Usage:\n"
   ]
  },
  {
   "cell_type": "code",
   "execution_count": 27,
   "metadata": {},
   "outputs": [],
   "source": [
    "chrome_vapp = ChromeVapp()\n",
    "chrome_vapp.add_context_object(\"driver\", WebDriverContextObject())"
   ]
  },
  {
   "cell_type": "code",
   "execution_count": 23,
   "metadata": {},
   "outputs": [],
   "source": [
    "chrome_vapp.remove_context_object(\"driver\")"
   ]
  },
  {
   "cell_type": "code",
   "execution_count": 29,
   "metadata": {},
   "outputs": [],
   "source": [
    "chrome_vapp.add_command(\"open_url\",OpenUrlCommand())"
   ]
  },
  {
   "cell_type": "code",
   "execution_count": 42,
   "metadata": {},
   "outputs": [
    {
     "name": "stdout",
     "output_type": "stream",
     "text": [
      "<__main__.OpenUrlCommand object at 0x109a11e50>\n",
      "<selenium.webdriver.chrome.webdriver.WebDriver (session=\"c833bdbbb9f0944572aaef7407004fb9\")>\n"
     ]
    }
   ],
   "source": [
    "chrome_vapp.execute_commands([\n",
    "    [\"open_url\",\"https://www.ibm.com/careers/search\"]\n",
    "])"
   ]
  },
  {
   "cell_type": "code",
   "execution_count": null,
   "metadata": {},
   "outputs": [],
   "source": []
  },
  {
   "cell_type": "code",
   "execution_count": 73,
   "metadata": {},
   "outputs": [],
   "source": [
    "page_tab_elements = PageTabNavigatedElements()\n",
    "chrome_vapp.add_frame_data(\"page_tab_focus\",PageTabNavigatedElements())"
   ]
  },
  {
   "cell_type": "code",
   "execution_count": 74,
   "metadata": {},
   "outputs": [
    {
     "name": "stdout",
     "output_type": "stream",
     "text": [
      "ELEMENT_INDEX,TAG,TEXT,ID,NAME,INPUT_TYPE,VALUE,PLACEHOLDER,HREF,XPATH\n",
      "0,input,,password,session_password,password,,,,/HTML/BODY/DIV/MAIN/DIV[2]/DIV/FORM/DIV[2]/INPUT\n",
      "1,span,show,password-visibility-toggle,,,,,,/HTML/BODY/DIV/MAIN/DIV[2]/DIV/FORM/DIV[2]/SPAN\n",
      "2,a,Forgot password?,,,,,,https://www.linkedin.com/checkpoint/rp/request-password-reset?trk=guest_homepage-basic_nav-header-signin,/HTML/BODY/DIV/MAIN/DIV[2]/DIV/FORM/A\n",
      "3,button,Sign in,,,,,,,/HTML/BODY/DIV/MAIN/DIV[2]/DIV/FORM/DIV[3]/BUTTON\n",
      "4,a,User Agreement,,,,,,https://www.linkedin.com/legal/user-agreement,/HTML/BODY/DIV/MAIN/DIV[2]/DIV/DIV[2]/P/A\n",
      "5,a,Privacy Policy,,,,,,https://www.linkedin.com/legal/privacy-policy,/HTML/BODY/DIV/MAIN/DIV[2]/DIV/DIV[2]/P/A[2]\n",
      "6,a,Cookie Policy,,,,,,https://www.linkedin.com/legal/cookie-policy,/HTML/BODY/DIV/MAIN/DIV[2]/DIV/DIV[2]/P/A[3]\n",
      "7,iframe,,gsi_888385_902793,,,,,,/HTML/BODY/DIV/MAIN/DIV[2]/DIV/DIV[2]/DIV[2]/DIV/IFRAME\n",
      "8,iframe,,gsi_888385_902793,,,,,,/HTML/BODY/DIV/MAIN/DIV[2]/DIV/DIV[2]/DIV[2]/DIV/IFRAME\n",
      "\n"
     ]
    },
    {
     "name": "stderr",
     "output_type": "stream",
     "text": [
      "[41186:40707:0221/134748.215913:ERROR:connection_factory_impl.cc(471)] ConnectionHandler failed with net error: -2\n"
     ]
    }
   ],
   "source": [
    "data = chrome_vapp.get_frame_data(\"page_tab_focus\")\n",
    "print(data)"
   ]
  },
  {
   "cell_type": "code",
   "execution_count": 69,
   "metadata": {},
   "outputs": [
    {
     "name": "stdout",
     "output_type": "stream",
     "text": [
      "Closing the browser...\n",
      "You need to manually complete the log-in or the human verification if required.\n"
     ]
    },
    {
     "name": "stderr",
     "output_type": "stream",
     "text": [
      "\n",
      "DevTools listening on ws://127.0.0.1:59751/devtools/browser/30e6e1d5-1450-45ca-8e90-b6c58870c6c5\n",
      "INFO: Created TensorFlow Lite XNNPACK delegate for CPU.\n"
     ]
    },
    {
     "name": "stdout",
     "output_type": "stream",
     "text": [
      "Continuing with the automation process...\n"
     ]
    }
   ],
   "source": [
    "chat_gpt = ChatGPTChrome()"
   ]
  },
  {
   "cell_type": "code",
   "execution_count": 77,
   "metadata": {},
   "outputs": [
    {
     "name": "stdout",
     "output_type": "stream",
     "text": [
      "Closing the browser...\n"
     ]
    }
   ],
   "source": [
    "chat_gpt.quit()"
   ]
  },
  {
   "cell_type": "code",
   "execution_count": 70,
   "metadata": {},
   "outputs": [],
   "source": [
    "from gptautomator.chat_gpt_session import ChatGPTSession\n",
    "gptSession = ChatGPTSession(chat_gpt)"
   ]
  },
  {
   "cell_type": "code",
   "execution_count": 71,
   "metadata": {},
   "outputs": [
    {
     "ename": "TypeError",
     "evalue": "the JSON object must be str, bytes or bytearray, not NoneType",
     "output_type": "error",
     "traceback": [
      "\u001b[0;31m---------------------------------------------------------------------------\u001b[0m",
      "\u001b[0;31mTypeError\u001b[0m                                 Traceback (most recent call last)",
      "Cell \u001b[0;32mIn[71], line 51\u001b[0m\n\u001b[1;32m      2\u001b[0m prompt \u001b[38;5;241m=\u001b[39m \u001b[38;5;124mf\u001b[39m\u001b[38;5;124m\"\"\"\u001b[39m\n\u001b[1;32m      3\u001b[0m \u001b[38;5;124mYou will be acting as chrome operating agent.I will give you task,\u001b[39m\n\u001b[1;32m      4\u001b[0m \u001b[38;5;124mweb page information and my information required to fill any form or may be my login credentials. \u001b[39m\n\u001b[0;32m   (...)\u001b[0m\n\u001b[1;32m     46\u001b[0m \u001b[38;5;124mObviously if you have understood right. \u001b[39m\n\u001b[1;32m     47\u001b[0m \u001b[38;5;124m\"\"\"\u001b[39m\n\u001b[1;32m     48\u001b[0m gpt_response \u001b[38;5;241m=\u001b[39m gptSession\u001b[38;5;241m.\u001b[39mask({\n\u001b[1;32m     49\u001b[0m     \u001b[38;5;124m\"\u001b[39m\u001b[38;5;124mvalue\u001b[39m\u001b[38;5;124m\"\u001b[39m : json\u001b[38;5;241m.\u001b[39mdumps(prompt)\n\u001b[1;32m     50\u001b[0m })\n\u001b[0;32m---> 51\u001b[0m gpt_resp_dict \u001b[38;5;241m=\u001b[39m \u001b[43mjson\u001b[49m\u001b[38;5;241;43m.\u001b[39;49m\u001b[43mloads\u001b[49m\u001b[43m(\u001b[49m\u001b[43mgpt_response\u001b[49m\u001b[43m)\u001b[49m\n\u001b[1;32m     52\u001b[0m gpt_resp_dict\n",
      "File \u001b[0;32m/opt/homebrew/Cellar/python@3.11/3.11.7_1/Frameworks/Python.framework/Versions/3.11/lib/python3.11/json/__init__.py:339\u001b[0m, in \u001b[0;36mloads\u001b[0;34m(s, cls, object_hook, parse_float, parse_int, parse_constant, object_pairs_hook, **kw)\u001b[0m\n\u001b[1;32m    337\u001b[0m \u001b[38;5;28;01melse\u001b[39;00m:\n\u001b[1;32m    338\u001b[0m     \u001b[38;5;28;01mif\u001b[39;00m \u001b[38;5;129;01mnot\u001b[39;00m \u001b[38;5;28misinstance\u001b[39m(s, (\u001b[38;5;28mbytes\u001b[39m, \u001b[38;5;28mbytearray\u001b[39m)):\n\u001b[0;32m--> 339\u001b[0m         \u001b[38;5;28;01mraise\u001b[39;00m \u001b[38;5;167;01mTypeError\u001b[39;00m(\u001b[38;5;124mf\u001b[39m\u001b[38;5;124m'\u001b[39m\u001b[38;5;124mthe JSON object must be str, bytes or bytearray, \u001b[39m\u001b[38;5;124m'\u001b[39m\n\u001b[1;32m    340\u001b[0m                         \u001b[38;5;124mf\u001b[39m\u001b[38;5;124m'\u001b[39m\u001b[38;5;124mnot \u001b[39m\u001b[38;5;132;01m{\u001b[39;00ms\u001b[38;5;241m.\u001b[39m\u001b[38;5;18m__class__\u001b[39m\u001b[38;5;241m.\u001b[39m\u001b[38;5;18m__name__\u001b[39m\u001b[38;5;132;01m}\u001b[39;00m\u001b[38;5;124m'\u001b[39m)\n\u001b[1;32m    341\u001b[0m     s \u001b[38;5;241m=\u001b[39m s\u001b[38;5;241m.\u001b[39mdecode(detect_encoding(s), \u001b[38;5;124m'\u001b[39m\u001b[38;5;124msurrogatepass\u001b[39m\u001b[38;5;124m'\u001b[39m)\n\u001b[1;32m    343\u001b[0m \u001b[38;5;28;01mif\u001b[39;00m (\u001b[38;5;28mcls\u001b[39m \u001b[38;5;129;01mis\u001b[39;00m \u001b[38;5;28;01mNone\u001b[39;00m \u001b[38;5;129;01mand\u001b[39;00m object_hook \u001b[38;5;129;01mis\u001b[39;00m \u001b[38;5;28;01mNone\u001b[39;00m \u001b[38;5;129;01mand\u001b[39;00m\n\u001b[1;32m    344\u001b[0m         parse_int \u001b[38;5;129;01mis\u001b[39;00m \u001b[38;5;28;01mNone\u001b[39;00m \u001b[38;5;129;01mand\u001b[39;00m parse_float \u001b[38;5;129;01mis\u001b[39;00m \u001b[38;5;28;01mNone\u001b[39;00m \u001b[38;5;129;01mand\u001b[39;00m\n\u001b[1;32m    345\u001b[0m         parse_constant \u001b[38;5;129;01mis\u001b[39;00m \u001b[38;5;28;01mNone\u001b[39;00m \u001b[38;5;129;01mand\u001b[39;00m object_pairs_hook \u001b[38;5;129;01mis\u001b[39;00m \u001b[38;5;28;01mNone\u001b[39;00m \u001b[38;5;129;01mand\u001b[39;00m \u001b[38;5;129;01mnot\u001b[39;00m kw):\n",
      "\u001b[0;31mTypeError\u001b[0m: the JSON object must be str, bytes or bytearray, not NoneType"
     ]
    }
   ],
   "source": [
    "import json\n",
    "prompt = f\"\"\"\n",
    "You will be acting as chrome operating agent.I will give you task,\n",
    "web page information and my information required to fill any form or may be my login credentials. \n",
    "What you will be sending me is commands. Let me explain\n",
    "\n",
    "I designed a platform where vapps are installed.\n",
    "Vapp is nothing but a virtual application that holds programmatical access to applications like chrome, file changing.\n",
    "My Platform has only one vapp which is chrome. I will give you list of commands available in this app.\n",
    "Each command is list of values as simple as it is. \n",
    "First argument will be VAPP ID. For now chrome vapp id is chrome as right now there is only instance of chrome.\n",
    "Second argument will be command name. Remaining are command related arguments. Ofcourse you will have commands information.\n",
    "Infact if any command is added, I will be letting you know like below\n",
    "\n",
    "NEW COMMAND ALERT\n",
    "    ...Command details...\n",
    "\n",
    "Installed Vapp and Commands Presently\n",
    "Vapp : Chrome, id : chrome\n",
    "\n",
    "Command : Open Url\n",
    "Examples\n",
    "[\"open_url\",\"https://linkedin.com\"]\n",
    "[\"open_url\",\"https://www.ibm.com\"]\n",
    "\n",
    "\n",
    "When you have to give commands you need to give like below\n",
    "{\n",
    "    json.dumps({\n",
    "        \"understood\" : True,\n",
    "        \"commands\" : [\n",
    "            [\"chrome\",\"open_url\",\"https://example.org\"]\n",
    "        ]\n",
    "    })\n",
    "}\n",
    "YUO ALWAYS GIVE RESPONSE in JSON FROM NOW ON IN CODEBLOCK. \n",
    "EVERY JSON RESPONSE SHOULD HAVE MUST FIELD understood: boolean like below if you want to give an acknowlegement\n",
    "May be lets add your comments, it need not to be exactly like below the comments I think you understood\n",
    "{\n",
    "    json.dumps({\n",
    "        \"understood\": True,\n",
    "        \"comments\": \"got it. you could provide with more vapps and its commands. I will help\"\n",
    "    })\n",
    "}\n",
    "\n",
    "Obviously if you have understood right. \n",
    "\"\"\"\n",
    "gpt_response = gptSession.ask({\n",
    "    \"value\" : json.dumps(prompt)\n",
    "})\n",
    "gpt_resp_dict = json.loads(gpt_response)\n",
    "gpt_resp_dict"
   ]
  },
  {
   "cell_type": "code",
   "execution_count": 58,
   "metadata": {},
   "outputs": [],
   "source": [
    "chrome_vapp = ChromeVapp()\n",
    "chrome_vapp.add_context_object(\"driver\",WebDriverContextObject())"
   ]
  },
  {
   "cell_type": "code",
   "execution_count": 75,
   "metadata": {},
   "outputs": [],
   "source": [
    "chrome_vapp.remove_context_object(\"driver\")"
   ]
  },
  {
   "cell_type": "code",
   "execution_count": 59,
   "metadata": {},
   "outputs": [],
   "source": [
    "chrome_vapp.add_command(\"open_url\", OpenUrlCommand())"
   ]
  },
  {
   "cell_type": "code",
   "execution_count": 60,
   "metadata": {},
   "outputs": [
    {
     "name": "stdout",
     "output_type": "stream",
     "text": [
      "<__main__.OpenUrlCommand object at 0x109c00790>\n",
      "<selenium.webdriver.chrome.webdriver.WebDriver (session=\"53db58dd9d9f163809059e1c5b4bd85d\")>\n"
     ]
    }
   ],
   "source": [
    "chrome_vapp.execute_commands([\n",
    "    [\"open_url\",\"https://linkedin.com\"]\n",
    "])"
   ]
  },
  {
   "cell_type": "code",
   "execution_count": 67,
   "metadata": {},
   "outputs": [],
   "source": [
    "chrome_vapp.add_command(\"click_element\", ClickCommand())"
   ]
  },
  {
   "cell_type": "code",
   "execution_count": null,
   "metadata": {},
   "outputs": [],
   "source": []
  },
  {
   "cell_type": "code",
   "execution_count": 68,
   "metadata": {},
   "outputs": [
    {
     "name": "stdout",
     "output_type": "stream",
     "text": [
      "<__main__.ClickCommand object at 0x109aebe90>\n",
      "<selenium.webdriver.chrome.webdriver.WebDriver (session=\"53db58dd9d9f163809059e1c5b4bd85d\")>\n",
      "Clicked element with XPath: //a[contains(text(), 'Sign in')]\n"
     ]
    }
   ],
   "source": [
    "chrome_vapp.execute_commands([\n",
    "    [\"click_element\",\"//a[contains(text(), 'Sign in')]\"]\n",
    "])"
   ]
  },
  {
   "cell_type": "code",
   "execution_count": null,
   "metadata": {},
   "outputs": [],
   "source": []
  }
 ],
 "metadata": {
  "kernelspec": {
   "display_name": ".venv",
   "language": "python",
   "name": "python3"
  },
  "language_info": {
   "codemirror_mode": {
    "name": "ipython",
    "version": 3
   },
   "file_extension": ".py",
   "mimetype": "text/x-python",
   "name": "python",
   "nbconvert_exporter": "python",
   "pygments_lexer": "ipython3",
   "version": "3.11.7"
  }
 },
 "nbformat": 4,
 "nbformat_minor": 2
}
