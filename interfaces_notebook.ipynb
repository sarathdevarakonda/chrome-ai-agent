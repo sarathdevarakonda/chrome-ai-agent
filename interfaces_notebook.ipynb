{
 "cells": [
  {
   "cell_type": "code",
   "execution_count": 1,
   "metadata": {},
   "outputs": [],
   "source": [
    "%run gptautomator/chat_gpt_automator.py\n",
    "%run gptautomator/chat_gpt_session.py\n",
    "from gptautomator.chat_gpt_chrome import ChatGPTChrome\n"
   ]
  },
  {
   "cell_type": "code",
   "execution_count": 2,
   "metadata": {},
   "outputs": [
    {
     "name": "stdout",
     "output_type": "stream",
     "text": [
      "Closing the browser...\n",
      "You need to manually complete the log-in or the human verification if required.\n"
     ]
    },
    {
     "name": "stderr",
     "output_type": "stream",
     "text": [
      "\n",
      "DevTools listening on ws://127.0.0.1:61687/devtools/browser/c98ae13b-f2f6-4fcd-9646-58f3c6ed6f11\n"
     ]
    },
    {
     "name": "stdout",
     "output_type": "stream",
     "text": [
      "Continuing with the automation process...\n"
     ]
    }
   ],
   "source": [
    "chat_gpt = ChatGPTChrome()"
   ]
  },
  {
   "cell_type": "code",
   "execution_count": 3,
   "metadata": {},
   "outputs": [
    {
     "name": "stderr",
     "output_type": "stream",
     "text": [
      "INFO: Created TensorFlow Lite XNNPACK delegate for CPU.\n"
     ]
    }
   ],
   "source": [
    "from gptautomator.chat_gpt_session import ChatGPTSession\n",
    "gptSession = ChatGPTSession(chat_gpt)"
   ]
  },
  {
   "cell_type": "code",
   "execution_count": 4,
   "metadata": {},
   "outputs": [
    {
     "data": {
      "text/plain": [
       "{'understood': True,\n",
       " 'comments': \"Got it. You want me to act as a Chrome operating agent, receiving tasks to perform on web pages using the provided commands. I should respond in JSON format with a 'understood' field and, if necessary, provide comments or acknowledgments. I'll be using the commands listed for the Chrome Vapp.\"}"
      ]
     },
     "execution_count": 4,
     "metadata": {},
     "output_type": "execute_result"
    }
   ],
   "source": [
    "import json\n",
    "prompt = f\"\"\"\n",
    "You will be acting as chrome operating agent.I will give you task,\n",
    "web page information called frame data and my information required to fill any form or may be my login credentials. \n",
    "What you will be sending me is commands. Let me explain\n",
    "\n",
    "I designed a platform where vapps are installed.\n",
    "Vapp is nothing but a virtual application that holds programmatical access to applications like chrome, file changing.\n",
    "My Platform has only one vapp which is chrome. I will give you list of commands available in this app.\n",
    "Each command is list of values as simple as it is. \n",
    "First argument will be command name. Remaining are command related arguments. Ofcourse you will have commands information.\n",
    "Infact if any command is added, I will be letting you know like below\n",
    "\n",
    "NEW COMMAND ALERT\n",
    "    ...Command details...\n",
    "\n",
    "Installed Vapp and Commands Presently\n",
    "Vapp : Chrome, id : chrome\n",
    "\n",
    "Command : Open Url\n",
    "Response Examples\n",
    "[\"open_url\",\"https://linkedin.com\"]\n",
    "[\"open_url\",\"https://www.ibm.com\"]\n",
    "\n",
    "Commands : Send Keys to the input\n",
    "Response Examples\n",
    "[\"send_keys\",\"/HTML/BODY/MAIN/SECTION/DIV/DIV/FORM/DIV/DIV/DIV/DIV/INPUT\",\"sarath.devarakonda22@gmail.com\"],\n",
    "[\"send_keys\",\"/HTML/BODY/MAIN/SECTION/DIV/DIV/FORM/DIV/DIV[2]/DIV/DIV/INPUT\",\"412,./dec\"],\n",
    "\n",
    "Command: Sleep Command\n",
    "Response Examples:\n",
    "[\"sleep\",1]\n",
    "[\"sleep\", 2]\n",
    "\n",
    "Command: Click command\n",
    "Response Examples\n",
    "[\"click\",\"/HTML/BODY/MAIN/SECTION/DIV/DIV/FORM/DIV[2]/BUTTON\"\"]\n",
    "[\"click\",\"/HTML/BODY/BUTTON]\n",
    "\n",
    "When you have to give commands you need to give like below\n",
    "{\n",
    "    json.dumps({\n",
    "        \"understood\" : True,\n",
    "        \"commands\" : [\n",
    "            [\"open_url\",\"https://example.org\"],\n",
    "            [\"send_keys\",\"/HTML/BODY/DIV[2]/INPUT\"],\n",
    "            [\"send_keys\",\"/HTML/BODY/DIV[3]/INPUT\"],\n",
    "            [\"click\",\"/HTML/BODY/DIV[3]/button\"]\n",
    "        ]\n",
    "    })\n",
    "}\n",
    "YUO ALWAYS GIVE RESPONSE in JSON FROM NOW ON IN CODEBLOCK. \n",
    "EVERY JSON RESPONSE SHOULD HAVE MUST FIELD understood: boolean like below if you want to give an acknowlegement\n",
    "May be lets add your comments, it need not to be exactly like below the comments I think you understood\n",
    "{\n",
    "    json.dumps({\n",
    "        \"understood\": True,\n",
    "        \"comments\": \"got it. you could provide with more vapps and its commands. I will help\"\n",
    "    })\n",
    "}\n",
    "\n",
    "Obviously if you have understood right. \n",
    "\"\"\"\n",
    "gpt_response = gptSession.ask({\n",
    "    \"value\" : json.dumps(prompt)\n",
    "})\n",
    "gpt_resp_dict = json.loads(gpt_response)\n",
    "gpt_resp_dict"
   ]
  },
  {
   "cell_type": "code",
   "execution_count": null,
   "metadata": {},
   "outputs": [],
   "source": []
  },
  {
   "cell_type": "code",
   "execution_count": 134,
   "metadata": {},
   "outputs": [
    {
     "data": {
      "text/plain": [
       "{'understood': True,\n",
       " 'commands': [['send_keys',\n",
       "   '/HTML/BODY/MAIN/SECTION/DIV/DIV/FORM/DIV/DIV/DIV/DIV/INPUT',\n",
       "   'sarath.devarakonda22@gmail.com'],\n",
       "  ['sleep', 1],\n",
       "  ['send_keys',\n",
       "   '/HTML/BODY/MAIN/SECTION/DIV/DIV/FORM/DIV/DIV[2]/DIV/DIV/INPUT',\n",
       "   '412,./dec'],\n",
       "  ['sleep', 1],\n",
       "  ['click', '/HTML/BODY/MAIN/SECTION/DIV/DIV/FORM/DIV[2]/BUTTON'],\n",
       "  ['sleep', 1],\n",
       "  ['click', '/HTML/BODY/NAV/UL/LI[4]/A'],\n",
       "  ['sleep', 1]]}"
      ]
     },
     "execution_count": 134,
     "metadata": {},
     "output_type": "execute_result"
    }
   ],
   "source": [
    "prompt= f\"\"\"\n",
    "    Given below is the csv data of all elements that be switched using tab.\n",
    "    {pagedata}    \n",
    "    Task: Apply for jobs in this linkedin page. I will get page related information and you give me the commands so that I can go forward.\n",
    "    Remmeber it could be sign in , job search page, finally I need to submit a job application. If there is job we are trying to look into the add job_id field to response. \n",
    "    Now tell me what commands I need to execute to next step. USE JSON FORMAT AND FIELD NAMES THAT YOU INSTRUCTED TO DO\n",
    "    TASK REQURIED INFORMATION:\n",
    "    Credentials\n",
    "    Username : sarath.devarakonda22@gmail.com\n",
    "    password: 412,./dec\n",
    "    \n",
    "    IF THE PAGE DATA IS ALREDY SIGN IN NO NEED TO GO TO URL, BASED ON PAGE TYPE YOU GIVE COMMANDS\n",
    "    ADD SLEEP of 1 COMMAND AFTER EVERY COMMAND\n",
    "\"\"\"\n",
    "gpt_response = gptSession.ask({\n",
    "    \"value\" : json.dumps(prompt)\n",
    "})\n",
    "gpt_resp_dict = json.loads(gpt_response)\n",
    "gpt_resp_dict"
   ]
  },
  {
   "cell_type": "code",
   "execution_count": 135,
   "metadata": {},
   "outputs": [
    {
     "name": "stdout",
     "output_type": "stream",
     "text": [
      "<__main__.SendKeysCommand object at 0x109d3dd10>\n",
      "Sent keys 'sarath.devarakonda22@gmail.com' to element with XPath: /HTML/BODY/MAIN/SECTION/DIV/DIV/FORM/DIV/DIV/DIV/DIV/INPUT\n",
      "<__main__.SleepCommand object at 0x109bfec90>\n",
      "<__main__.SendKeysCommand object at 0x109d3dd10>\n",
      "Sent keys '412,./dec' to element with XPath: /HTML/BODY/MAIN/SECTION/DIV/DIV/FORM/DIV/DIV[2]/DIV/DIV/INPUT\n",
      "<__main__.SleepCommand object at 0x109bfec90>\n",
      "<__main__.ClickCommand object at 0x109d3e150>\n",
      "Clicked element with XPath: /HTML/BODY/MAIN/SECTION/DIV/DIV/FORM/DIV[2]/BUTTON\n",
      "<__main__.SleepCommand object at 0x109bfec90>\n",
      "<__main__.ClickCommand object at 0x109d3e150>\n",
      "exception at Message: no such element: Unable to locate element: {\"method\":\"xpath\",\"selector\":\"/HTML/BODY/NAV/UL/LI[4]/A\"}\n",
      "  (Session info: chrome=122.0.6261.69); For documentation on this error, please visit: https://www.selenium.dev/documentation/webdriver/troubleshooting/errors#no-such-element-exception\n",
      "Stacktrace:\n",
      "0   chromedriver                        0x0000000104b14580 chromedriver + 3966336\n",
      "1   chromedriver                        0x0000000104b0cb0c chromedriver + 3934988\n",
      "2   chromedriver                        0x000000010478fda0 chromedriver + 277920\n",
      "3   chromedriver                        0x00000001047d2394 chromedriver + 549780\n",
      "4   chromedriver                        0x000000010480abf0 chromedriver + 781296\n",
      "5   chromedriver                        0x00000001047c6fb0 chromedriver + 503728\n",
      "6   chromedriver                        0x00000001047c7a28 chromedriver + 506408\n",
      "7   chromedriver                        0x0000000104ad9768 chromedriver + 3725160\n",
      "8   chromedriver                        0x0000000104addc5c chromedriver + 3742812\n",
      "9   chromedriver                        0x0000000104ac2250 chromedriver + 3629648\n",
      "10  chromedriver                        0x0000000104ade758 chromedriver + 3745624\n",
      "11  chromedriver                        0x0000000104ab55c8 chromedriver + 3577288\n",
      "12  chromedriver                        0x0000000104afcfb8 chromedriver + 3870648\n",
      "13  chromedriver                        0x0000000104afd15c chromedriver + 3871068\n",
      "14  chromedriver                        0x0000000104b0c77c chromedriver + 3934076\n",
      "15  libsystem_pthread.dylib             0x000000018aec2034 _pthread_start + 136\n",
      "16  libsystem_pthread.dylib             0x000000018aebce3c thread_start + 8\n",
      "\n",
      "<__main__.SleepCommand object at 0x109bfec90>\n"
     ]
    }
   ],
   "source": [
    "chrome_vapp.execute_commands(gpt_resp_dict[\"commands\"])"
   ]
  },
  {
   "cell_type": "code",
   "execution_count": 142,
   "metadata": {},
   "outputs": [
    {
     "ename": "KeyboardInterrupt",
     "evalue": "",
     "output_type": "error",
     "traceback": [
      "\u001b[0;31m---------------------------------------------------------------------------\u001b[0m",
      "\u001b[0;31mKeyboardInterrupt\u001b[0m                         Traceback (most recent call last)",
      "Cell \u001b[0;32mIn[142], line 6\u001b[0m\n\u001b[1;32m      1\u001b[0m prompt \u001b[38;5;241m=\u001b[39m \u001b[38;5;124mf\u001b[39m\u001b[38;5;124m\"\"\"\u001b[39m\n\u001b[1;32m      2\u001b[0m \u001b[38;5;124m    Now the page data of specific elements given\u001b[39m\n\u001b[1;32m      3\u001b[0m \u001b[38;5;124m    \u001b[39m\u001b[38;5;132;01m{\u001b[39;00mspecific_page_data\u001b[38;5;132;01m}\u001b[39;00m\n\u001b[1;32m      4\u001b[0m \u001b[38;5;124m    What to do and what are commands now\u001b[39m\n\u001b[1;32m      5\u001b[0m \u001b[38;5;124m\"\"\"\u001b[39m\n\u001b[0;32m----> 6\u001b[0m gpt_response \u001b[38;5;241m=\u001b[39m \u001b[43mgptSession\u001b[49m\u001b[38;5;241;43m.\u001b[39;49m\u001b[43mask\u001b[49m\u001b[43m(\u001b[49m\u001b[43m{\u001b[49m\n\u001b[1;32m      7\u001b[0m \u001b[43m    \u001b[49m\u001b[38;5;124;43m\"\u001b[39;49m\u001b[38;5;124;43mvalue\u001b[39;49m\u001b[38;5;124;43m\"\u001b[39;49m\u001b[43m \u001b[49m\u001b[43m:\u001b[49m\u001b[43m \u001b[49m\u001b[43mjson\u001b[49m\u001b[38;5;241;43m.\u001b[39;49m\u001b[43mdumps\u001b[49m\u001b[43m(\u001b[49m\u001b[43mprompt\u001b[49m\u001b[43m)\u001b[49m\n\u001b[1;32m      8\u001b[0m \u001b[43m}\u001b[49m\u001b[43m)\u001b[49m\n\u001b[1;32m      9\u001b[0m gpt_resp_dict \u001b[38;5;241m=\u001b[39m json\u001b[38;5;241m.\u001b[39mloads(gpt_response)\n\u001b[1;32m     10\u001b[0m gpt_resp_dict\n",
      "File \u001b[0;32m~/chrome-ai-agent/gptautomator/chat_gpt_session.py:26\u001b[0m, in \u001b[0;36mChatGPTSession.ask\u001b[0;34m(self, prompt)\u001b[0m\n\u001b[1;32m     24\u001b[0m \u001b[38;5;28;01mif\u001b[39;00m \u001b[38;5;28mlen\u001b[39m(send_buttons) \u001b[38;5;241m>\u001b[39m \u001b[38;5;241m0\u001b[39m:\n\u001b[1;32m     25\u001b[0m     \u001b[38;5;28;01mreturn\u001b[39;00m \u001b[38;5;28mself\u001b[39m\u001b[38;5;241m.\u001b[39mgpt\u001b[38;5;241m.\u001b[39mreturn_last_response()\n\u001b[0;32m---> 26\u001b[0m time\u001b[38;5;241m.\u001b[39msleep(\u001b[38;5;241m1\u001b[39m)\n",
      "\u001b[0;31mKeyboardInterrupt\u001b[0m: "
     ]
    }
   ],
   "source": [
    "prompt = f\"\"\"\n",
    "    Now the page data of specific elements given\n",
    "    {specific_page_data}\n",
    "    What to do and what are commands now\n",
    "\"\"\"\n",
    "gpt_response = gptSession.ask({\n",
    "    \"value\" : json.dumps(prompt)\n",
    "})\n",
    "gpt_resp_dict = json.loads(gpt_response)\n",
    "gpt_resp_dict"
   ]
  },
  {
   "cell_type": "code",
   "execution_count": null,
   "metadata": {},
   "outputs": [],
   "source": []
  }
 ],
 "metadata": {
  "kernelspec": {
   "display_name": ".venv",
   "language": "python",
   "name": "python3"
  },
  "language_info": {
   "codemirror_mode": {
    "name": "ipython",
    "version": 3
   },
   "file_extension": ".py",
   "mimetype": "text/x-python",
   "name": "python",
   "nbconvert_exporter": "python",
   "pygments_lexer": "ipython3",
   "version": "3.11.7"
  }
 },
 "nbformat": 4,
 "nbformat_minor": 2
}
