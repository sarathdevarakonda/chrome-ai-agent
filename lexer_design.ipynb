{
 "cells": [
  {
   "cell_type": "code",
   "execution_count": 1,
   "metadata": {},
   "outputs": [
    {
     "name": "stdout",
     "output_type": "stream",
     "text": [
      "Requirement already satisfied: sly in ./.venv/lib/python3.11/site-packages (0.5)\n",
      "Note: you may need to restart the kernel to use updated packages.\n"
     ]
    }
   ],
   "source": [
    "%pip install sly"
   ]
  },
  {
   "cell_type": "code",
   "execution_count": 4,
   "metadata": {},
   "outputs": [],
   "source": [
    "from sly import Lexer\n",
    "from sly import Parser\n"
   ]
  },
  {
   "cell_type": "code",
   "execution_count": 91,
   "metadata": {},
   "outputs": [],
   "source": [
    "class CalcLexer(Lexer):\n",
    "    # Set of token names. This is always required\n",
    "    tokens = {\n",
    "        'ID', 'EQUALS', 'LPAREN', 'RPAREN', 'COMMA', 'PLUS', 'DOT','LBRACKET', 'RBRACKET', 'TERNARY'\n",
    "    }\n",
    "    \n",
    "    # String containing ignored characters between tokens\n",
    "    ignore = ' \\t'\n",
    "\n",
    "    # Regular expression rules for tokens\n",
    "    ID      = r'[a-zA-Z_][a-zA-Z0-9_]*'\n",
    "    EQUALS  = r'='\n",
    "    LPAREN  = r'\\('\n",
    "    RPAREN  = r'\\)'\n",
    "    COMMA   = r','\n",
    "    PLUS    = r'\\+'\n",
    "    DOT     = r'\\.'\n",
    "    LBRACKET = r'\\['\n",
    "    RBRACKET = r'\\]'\n",
    "    TERNARY  = r'\\?'"
   ]
  },
  {
   "cell_type": "code",
   "execution_count": 74,
   "metadata": {},
   "outputs": [],
   "source": [
    "class Node:\n",
    "    def __init__(self, type_, children=None, value=None):\n",
    "        self.type = type_\n",
    "        self.children = children\n",
    "        self.value = value\n"
   ]
  },
  {
   "cell_type": "code",
   "execution_count": 133,
   "metadata": {},
   "outputs": [
    {
     "name": "stdout",
     "output_type": "stream",
     "text": [
      "ExpressionList\n",
      "  ParallelBlock\n",
      "    <__main__.Node object at 0x1211ce4d0>\n",
      "    ExpressionList\n",
      "      Command\n",
      "        ['c1', <__main__.Node object at 0x1211cd210>]\n",
      "  Command\n",
      "    ['c2', <__main__.Node object at 0x1211cd1d0>]\n",
      "  ParallelBlock\n",
      "    <__main__.Node object at 0x1211ce290>\n",
      "    ExpressionList\n",
      "      Command\n",
      "        ['c3', <__main__.Node object at 0x1211ce950>]\n",
      "      Command\n",
      "        ['c4', <__main__.Node object at 0x1211cec10>]\n"
     ]
    },
    {
     "name": "stderr",
     "output_type": "stream",
     "text": [
      "WARNING: Token(s) {TERNARY,LBRACKET,RBRACKET} defined, but not used\n",
      "WARNING: There are 3 unused tokens\n"
     ]
    }
   ],
   "source": [
    "\n",
    "from sly import Parser\n",
    "\n",
    "class CalcParser(Parser):\n",
    "    tokens = CalcLexer.tokens\n",
    "\n",
    "    precedence = (\n",
    "        ('left', 'PLUS'),\n",
    "    )\n",
    "\n",
    "    def __init__(self):\n",
    "        self.names = {}\n",
    "\n",
    "    \n",
    "    \n",
    "    @_('expression_list')\n",
    "    def start(self, p):\n",
    "        return p.expression_list\n",
    "\n",
    "    @_('expression')\n",
    "    def expression_list(self, p):\n",
    "        return Node('ExpressionList', children=[p.expression])\n",
    "\n",
    "    @_('expression_list PLUS expression')\n",
    "    def expression_list(self, p):\n",
    "        p.expression_list.children.append(p.expression)\n",
    "        return p.expression_list\n",
    "\n",
    "    @_('parallel_expr')\n",
    "    def expression(self, p):\n",
    "        return p.parallel_expr\n",
    "\n",
    "\n",
    "    @_('command')\n",
    "    def expression(self, p):\n",
    "        return p.command\n",
    "\n",
    "    @_('LPAREN expression_list RPAREN')\n",
    "    def parallel_expr(self, p):\n",
    "        return Node('ParallelBlock', value=p.expression_list)\n",
    "    \n",
    "    @_('ID LPAREN param_list RPAREN')\n",
    "    def command(self, p):\n",
    "        return Node('Command', value=[p.ID, p.param_list])\n",
    "\n",
    "    @_('ID LPAREN RPAREN')\n",
    "    def command(self, p):\n",
    "        return Node('Command', value=[p.ID, []])\n",
    "\n",
    "    @_('param')\n",
    "    def param_list(self, p):\n",
    "        return Node('ParamList',children=[p.param])\n",
    "\n",
    "    @_('param_list COMMA param')\n",
    "    def param_list(self, p):\n",
    "        p.param_list.children.append(p.param)\n",
    "        return p.param_list\n",
    "\n",
    "    @_('ID EQUALS ID')\n",
    "    def param(self, p):\n",
    "        return Node('Param', value=[p.ID0, Node('ParamValue', value=[p.ID1])])\n",
    "\n",
    "    @_('ID EQUALS param_value')\n",
    "    def param(self, p):\n",
    "        return Node('Param', value=[p.ID, Node('ParamValue', value=p.param_value)])\n",
    "\n",
    "    @_('ID DOT ID')\n",
    "    def param_value(self, p):\n",
    "        return Node('ParamValue', value=[p.ID0,p.ID1])\n",
    "\n",
    "def print_tree(node, indent=0):\n",
    "    if not node:\n",
    "        return\n",
    "    print('  ' * indent + str(node.type))\n",
    "    if node.children:\n",
    "        for child in node.children:\n",
    "            print_tree(child, indent + 1)\n",
    "    elif node.value is not None:\n",
    "        print('  ' * (indent + 1) + str(node.value))\n",
    "        if isinstance(node.value, Node):\n",
    "            print_tree(node.value, indent + 1)\n",
    "\n",
    "\n",
    "if __name__ == '__main__':\n",
    "    lexer = CalcLexer()\n",
    "    parser = CalcParser()\n",
    "    data = '(c1(p1=i1)) + c2(p2=i2,p8=o1.m1) + (c3(p3=i4) + c4(p3=i6))'\n",
    "    result = parser.parse(lexer.tokenize(data))\n",
    "    print_tree(result)\n",
    "\n",
    "\n"
   ]
  },
  {
   "cell_type": "code",
   "execution_count": null,
   "metadata": {},
   "outputs": [],
   "source": []
  }
 ],
 "metadata": {
  "kernelspec": {
   "display_name": ".venv",
   "language": "python",
   "name": "python3"
  },
  "language_info": {
   "codemirror_mode": {
    "name": "ipython",
    "version": 3
   },
   "file_extension": ".py",
   "mimetype": "text/x-python",
   "name": "python",
   "nbconvert_exporter": "python",
   "pygments_lexer": "ipython3",
   "version": "3.11.7"
  }
 },
 "nbformat": 4,
 "nbformat_minor": 2
}
