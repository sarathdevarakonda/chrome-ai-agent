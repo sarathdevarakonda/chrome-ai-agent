{
 "cells": [
  {
   "cell_type": "code",
   "execution_count": 1,
   "metadata": {},
   "outputs": [],
   "source": [
    "%load_ext autoreload\n",
    "%autoreload 2\n"
   ]
  },
  {
   "cell_type": "code",
   "execution_count": 2,
   "metadata": {},
   "outputs": [],
   "source": [
    "\n",
    "from vapps.chrome.install import ChromeInstallScript\n",
    "from vapps.vapp_store_init import g_vapp_store, create_vapp_manager\n",
    "from vapps.vappmanager.install import VappManagerInstallScript"
   ]
  },
  {
   "cell_type": "code",
   "execution_count": 3,
   "metadata": {},
   "outputs": [
    {
     "data": {
      "text/plain": [
       "<vapps.vappstore.impl.VappStore at 0x10999f150>"
      ]
     },
     "execution_count": 3,
     "metadata": {},
     "output_type": "execute_result"
    }
   ],
   "source": [
    "g_vapp_store()"
   ]
  },
  {
   "cell_type": "code",
   "execution_count": 4,
   "metadata": {},
   "outputs": [
    {
     "name": "stdout",
     "output_type": "stream",
     "text": [
      "<vapps.vappstore.commands.InstallVapp object at 0x10999f210>\n",
      "vappmanager installed successfully.\n"
     ]
    }
   ],
   "source": [
    "g_vapp_store().execute_commands([\n",
    "    [\"install\", VappManagerInstallScript]\n",
    "])"
   ]
  },
  {
   "cell_type": "code",
   "execution_count": 5,
   "metadata": {},
   "outputs": [
    {
     "data": {
      "text/plain": [
       "{'installed_vapps': {'vappmanager': vapps.vappmanager.install.VappManagerInstallScript}}"
      ]
     },
     "execution_count": 5,
     "metadata": {},
     "output_type": "execute_result"
    }
   ],
   "source": [
    "g_vapp_store().ctx"
   ]
  },
  {
   "cell_type": "code",
   "execution_count": 6,
   "metadata": {},
   "outputs": [
    {
     "data": {
      "text/plain": [
       "<vapps.vappmanager.impl.VappManagerVapp at 0x1099cee90>"
      ]
     },
     "execution_count": 6,
     "metadata": {},
     "output_type": "execute_result"
    }
   ],
   "source": [
    "g_vapp_manager = create_vapp_manager()\n",
    "g_vapp_manager"
   ]
  },
  {
   "cell_type": "code",
   "execution_count": 7,
   "metadata": {},
   "outputs": [
    {
     "name": "stdout",
     "output_type": "stream",
     "text": [
      "<vapps.vappstore.commands.InstallVapp object at 0x10999f210>\n",
      "chrome installed successfully.\n"
     ]
    }
   ],
   "source": [
    "g_vapp_store().execute_commands([\n",
    "    [\"install\", ChromeInstallScript]\n",
    "])"
   ]
  },
  {
   "cell_type": "code",
   "execution_count": 8,
   "metadata": {},
   "outputs": [
    {
     "data": {
      "text/plain": [
       "{'installed_vapps': {'vappmanager': vapps.vappmanager.install.VappManagerInstallScript,\n",
       "  'chrome': vapps.chrome.install.ChromeInstallScript}}"
      ]
     },
     "execution_count": 8,
     "metadata": {},
     "output_type": "execute_result"
    }
   ],
   "source": [
    "g_vapp_store().ctx"
   ]
  },
  {
   "cell_type": "code",
   "execution_count": 9,
   "metadata": {},
   "outputs": [
    {
     "data": {
      "text/plain": [
       "{}"
      ]
     },
     "execution_count": 9,
     "metadata": {},
     "output_type": "execute_result"
    }
   ],
   "source": [
    "g_vapp_manager.ctx.get('manager').value.apps"
   ]
  },
  {
   "cell_type": "code",
   "execution_count": 10,
   "metadata": {},
   "outputs": [
    {
     "name": "stdout",
     "output_type": "stream",
     "text": [
      "<vapps.vappmanager.commands.AddVApp object at 0x1099cf010>\n",
      "store\n",
      "chrome\n",
      "Type of manager.apps: <class 'dict'>\n"
     ]
    },
    {
     "ename": "TypeError",
     "evalue": "Can't instantiate abstract class ChromeVapp with abstract method destroy",
     "output_type": "error",
     "traceback": [
      "\u001b[0;31m---------------------------------------------------------------------------\u001b[0m",
      "\u001b[0;31mTypeError\u001b[0m                                 Traceback (most recent call last)",
      "Cell \u001b[0;32mIn[10], line 1\u001b[0m\n\u001b[0;32m----> 1\u001b[0m \u001b[43mg_vapp_manager\u001b[49m\u001b[38;5;241;43m.\u001b[39;49m\u001b[43mexecute_commands\u001b[49m\u001b[43m(\u001b[49m\u001b[43m[\u001b[49m\n\u001b[1;32m      2\u001b[0m \u001b[43m    \u001b[49m\u001b[43m[\u001b[49m\u001b[38;5;124;43m\"\u001b[39;49m\u001b[38;5;124;43madd_vapp\u001b[39;49m\u001b[38;5;124;43m\"\u001b[39;49m\u001b[43m,\u001b[49m\u001b[38;5;124;43m\"\u001b[39;49m\u001b[38;5;124;43mchrome\u001b[39;49m\u001b[38;5;124;43m\"\u001b[39;49m\u001b[43m]\u001b[49m\n\u001b[1;32m      3\u001b[0m \u001b[43m]\u001b[49m\u001b[43m)\u001b[49m\n",
      "File \u001b[0;32m~/chrome-ai-agent/vapps/platform_object_types.py:38\u001b[0m, in \u001b[0;36mVApp.execute_commands\u001b[0;34m(self, commands)\u001b[0m\n\u001b[1;32m     36\u001b[0m \u001b[38;5;28mprint\u001b[39m(command)\n\u001b[1;32m     37\u001b[0m \u001b[38;5;28;01mif\u001b[39;00m command:\n\u001b[0;32m---> 38\u001b[0m     \u001b[43mcommand\u001b[49m\u001b[38;5;241;43m.\u001b[39;49m\u001b[43mdo_run\u001b[49m\u001b[43m(\u001b[49m\u001b[38;5;28;43mself\u001b[39;49m\u001b[38;5;241;43m.\u001b[39;49m\u001b[43mcontext_store\u001b[49m\u001b[43m,\u001b[49m\u001b[43m \u001b[49m\u001b[38;5;241;43m*\u001b[39;49m\u001b[43mcommand_args\u001b[49m\u001b[43m)\u001b[49m\n\u001b[1;32m     39\u001b[0m \u001b[38;5;28;01melse\u001b[39;00m:\n\u001b[1;32m     40\u001b[0m     \u001b[38;5;28mprint\u001b[39m(\u001b[38;5;124mf\u001b[39m\u001b[38;5;124m\"\u001b[39m\u001b[38;5;124mCommand \u001b[39m\u001b[38;5;124m'\u001b[39m\u001b[38;5;132;01m{\u001b[39;00mcommand_name\u001b[38;5;132;01m}\u001b[39;00m\u001b[38;5;124m'\u001b[39m\u001b[38;5;124m not found.\u001b[39m\u001b[38;5;124m\"\u001b[39m)\n",
      "File \u001b[0;32m~/chrome-ai-agent/vapps/vappmanager/commands.py:27\u001b[0m, in \u001b[0;36mAddVApp.do_run\u001b[0;34m(self, context_store, *args)\u001b[0m\n\u001b[1;32m     24\u001b[0m     \u001b[38;5;28;01mreturn\u001b[39;00m \u001b[38;5;28;01mFalse\u001b[39;00m\n\u001b[1;32m     26\u001b[0m initialize_method \u001b[38;5;241m=\u001b[39m \u001b[38;5;28mgetattr\u001b[39m(script_obj, \u001b[38;5;124m\"\u001b[39m\u001b[38;5;124minitialize\u001b[39m\u001b[38;5;124m\"\u001b[39m, \u001b[38;5;28;01mNone\u001b[39;00m)\n\u001b[0;32m---> 27\u001b[0m vapp_obj \u001b[38;5;241m=\u001b[39m \u001b[43minitialize_method\u001b[49m\u001b[43m(\u001b[49m\u001b[43m)\u001b[49m\n\u001b[1;32m     28\u001b[0m manager\u001b[38;5;241m.\u001b[39mapps[script_obj\u001b[38;5;241m.\u001b[39mname] \u001b[38;5;241m=\u001b[39m vapp_obj\n\u001b[1;32m     30\u001b[0m \u001b[38;5;28;01mreturn\u001b[39;00m \u001b[38;5;28;01mTrue\u001b[39;00m\n",
      "File \u001b[0;32m~/chrome-ai-agent/vapps/chrome/install.py:15\u001b[0m, in \u001b[0;36mChromeInstallScript.initialize\u001b[0;34m(self)\u001b[0m\n\u001b[1;32m     14\u001b[0m \u001b[38;5;28;01mdef\u001b[39;00m \u001b[38;5;21minitialize\u001b[39m(\u001b[38;5;28mself\u001b[39m):\n\u001b[0;32m---> 15\u001b[0m     app \u001b[38;5;241m=\u001b[39m \u001b[43mChromeVapp\u001b[49m\u001b[43m(\u001b[49m\u001b[43m)\u001b[49m\n\u001b[1;32m     16\u001b[0m     app\u001b[38;5;241m.\u001b[39madd_context_object(\u001b[38;5;124m\"\u001b[39m\u001b[38;5;124mdriver\u001b[39m\u001b[38;5;124m\"\u001b[39m, WebDriverContextObject())\n\u001b[1;32m     18\u001b[0m     app\u001b[38;5;241m.\u001b[39madd_command(\u001b[38;5;124m\"\u001b[39m\u001b[38;5;124mopen_url\u001b[39m\u001b[38;5;124m\"\u001b[39m,OpenUrlCommand())\n",
      "\u001b[0;31mTypeError\u001b[0m: Can't instantiate abstract class ChromeVapp with abstract method destroy"
     ]
    }
   ],
   "source": [
    "g_vapp_manager.execute_commands([\n",
    "    [\"add_vapp\",\"chrome\"]\n",
    "])"
   ]
  },
  {
   "cell_type": "code",
   "execution_count": null,
   "metadata": {},
   "outputs": [
    {
     "ename": "AttributeError",
     "evalue": "'VappManagerInstance' object has no attribute 'vapps'",
     "output_type": "error",
     "traceback": [
      "\u001b[0;31m---------------------------------------------------------------------------\u001b[0m",
      "\u001b[0;31mAttributeError\u001b[0m                            Traceback (most recent call last)",
      "Cell \u001b[0;32mIn[15], line 1\u001b[0m\n\u001b[0;32m----> 1\u001b[0m \u001b[43mg_vapp_manager\u001b[49m\u001b[38;5;241;43m.\u001b[39;49m\u001b[43mcontext_store\u001b[49m\u001b[38;5;241;43m.\u001b[39;49m\u001b[43mget\u001b[49m\u001b[43m(\u001b[49m\u001b[38;5;124;43m'\u001b[39;49m\u001b[38;5;124;43mmanager\u001b[39;49m\u001b[38;5;124;43m'\u001b[39;49m\u001b[43m)\u001b[49m\u001b[38;5;241;43m.\u001b[39;49m\u001b[43mvapps\u001b[49m\n",
      "\u001b[0;31mAttributeError\u001b[0m: 'VappManagerInstance' object has no attribute 'vapps'"
     ]
    }
   ],
   "source": [
    "g_vapp_manager.ctx.get('manager').vapps"
   ]
  },
  {
   "cell_type": "code",
   "execution_count": null,
   "metadata": {},
   "outputs": [],
   "source": [
    "from vapps.vappmanager.commands import AddVApp\n",
    "g_vapp_manager.add_command(\"add_vapp\",AddVApp())"
   ]
  },
  {
   "cell_type": "code",
   "execution_count": null,
   "metadata": {},
   "outputs": [
    {
     "name": "stdout",
     "output_type": "stream",
     "text": [
      "<vapps.vappmanager.commands.AddVApp object at 0x106726950>\n",
      "store\n",
      "chrome\n",
      "add app failed as it exists already\n"
     ]
    }
   ],
   "source": [
    "g_vapp_manager.execute_commands([\n",
    "    [\"add_vapp\",\"chrome\"]\n",
    "])\n"
   ]
  },
  {
   "cell_type": "code",
   "execution_count": null,
   "metadata": {},
   "outputs": [
    {
     "data": {
      "text/plain": [
       "{}"
      ]
     },
     "execution_count": 22,
     "metadata": {},
     "output_type": "execute_result"
    }
   ],
   "source": [
    " g_vapp_manager.ctx.get(\"manager\").value.apps\n"
   ]
  },
  {
   "cell_type": "code",
   "execution_count": null,
   "metadata": {},
   "outputs": [
    {
     "name": "stdout",
     "output_type": "stream",
     "text": [
      "None\n",
      "Command 'install' not found.\n"
     ]
    }
   ],
   "source": [
    "vappstore.execute_commands([\n",
    "    [\"install\", ChromeInstallScript]\n",
    "])"
   ]
  },
  {
   "cell_type": "code",
   "execution_count": null,
   "metadata": {},
   "outputs": [],
   "source": []
  }
 ],
 "metadata": {
  "kernelspec": {
   "display_name": ".venv",
   "language": "python",
   "name": "python3"
  },
  "language_info": {
   "codemirror_mode": {
    "name": "ipython",
    "version": 3
   },
   "file_extension": ".py",
   "mimetype": "text/x-python",
   "name": "python",
   "nbconvert_exporter": "python",
   "pygments_lexer": "ipython3",
   "version": "3.11.7"
  }
 },
 "nbformat": 4,
 "nbformat_minor": 2
}
