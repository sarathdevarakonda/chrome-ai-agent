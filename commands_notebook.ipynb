{
 "cells": [
  {
   "cell_type": "code",
   "execution_count": 26,
   "metadata": {},
   "outputs": [
    {
     "name": "stdout",
     "output_type": "stream",
     "text": [
      "The autoreload extension is already loaded. To reload it, use:\n",
      "  %reload_ext autoreload\n"
     ]
    }
   ],
   "source": [
    "%load_ext autoreload\n",
    "%autoreload 2\n"
   ]
  },
  {
   "cell_type": "code",
   "execution_count": 27,
   "metadata": {},
   "outputs": [],
   "source": [
    "\n",
    "from vapps.chrome.install import ChromeInstallScript\n",
    "from vapps.vapp_store_init import g_vapp_store, create_vapp_manager\n",
    "from vapps.vappmanager.install import VappManagerInstallScript"
   ]
  },
  {
   "cell_type": "code",
   "execution_count": 28,
   "metadata": {},
   "outputs": [
    {
     "data": {
      "text/plain": [
       "<vapps.vappstore.impl.VappStore at 0x10789ee10>"
      ]
     },
     "execution_count": 28,
     "metadata": {},
     "output_type": "execute_result"
    }
   ],
   "source": [
    "g_vapp_store()"
   ]
  },
  {
   "cell_type": "code",
   "execution_count": 29,
   "metadata": {},
   "outputs": [
    {
     "name": "stdout",
     "output_type": "stream",
     "text": [
      "<vapps.vappstore.commands.InstallVapp object at 0x10789f010>\n",
      "Error: VApp vappmanager is already installed.\n"
     ]
    }
   ],
   "source": [
    "g_vapp_store().execute_commands([\n",
    "    [\"install\", VappManagerInstallScript]\n",
    "])"
   ]
  },
  {
   "cell_type": "code",
   "execution_count": 30,
   "metadata": {},
   "outputs": [
    {
     "data": {
      "text/plain": [
       "{'installed_vapps': {'vappmanager': vapps.vappmanager.install.VappManagerInstallScript,\n",
       "  'chrome': vapps.chrome.install.ChromeInstallScript}}"
      ]
     },
     "execution_count": 30,
     "metadata": {},
     "output_type": "execute_result"
    }
   ],
   "source": [
    "g_vapp_store().ctx"
   ]
  },
  {
   "cell_type": "code",
   "execution_count": 31,
   "metadata": {},
   "outputs": [
    {
     "data": {
      "text/plain": [
       "<vapps.vappmanager.impl.VappManagerVapp at 0x107eb9a10>"
      ]
     },
     "execution_count": 31,
     "metadata": {},
     "output_type": "execute_result"
    }
   ],
   "source": [
    "g_vapp_manager = create_vapp_manager()\n",
    "g_vapp_manager"
   ]
  },
  {
   "cell_type": "code",
   "execution_count": 32,
   "metadata": {},
   "outputs": [
    {
     "name": "stdout",
     "output_type": "stream",
     "text": [
      "<vapps.vappstore.commands.InstallVapp object at 0x10789f010>\n",
      "Error: VApp chrome is already installed.\n"
     ]
    }
   ],
   "source": [
    "g_vapp_store().execute_commands([\n",
    "    [\"install\", ChromeInstallScript]\n",
    "])"
   ]
  },
  {
   "cell_type": "code",
   "execution_count": 33,
   "metadata": {},
   "outputs": [
    {
     "data": {
      "text/plain": [
       "{'installed_vapps': {'vappmanager': vapps.vappmanager.install.VappManagerInstallScript,\n",
       "  'chrome': vapps.chrome.install.ChromeInstallScript}}"
      ]
     },
     "execution_count": 33,
     "metadata": {},
     "output_type": "execute_result"
    }
   ],
   "source": [
    "g_vapp_store().ctx"
   ]
  },
  {
   "cell_type": "code",
   "execution_count": 34,
   "metadata": {},
   "outputs": [
    {
     "data": {
      "text/plain": [
       "{}"
      ]
     },
     "execution_count": 34,
     "metadata": {},
     "output_type": "execute_result"
    }
   ],
   "source": [
    "g_vapp_manager.ctx.get('manager').value.apps"
   ]
  },
  {
   "cell_type": "code",
   "execution_count": 35,
   "metadata": {},
   "outputs": [
    {
     "name": "stdout",
     "output_type": "stream",
     "text": [
      "<vapps.vappmanager.commands.AddVApp object at 0x107eb8690>\n",
      "store\n",
      "chrome\n",
      "Type of manager.apps: <class 'dict'>\n",
      "<bound method ChromeInstallScript.name of <vapps.chrome.install.ChromeInstallScript object at 0x103696390>>\n"
     ]
    }
   ],
   "source": [
    "g_vapp_manager.execute_commands([\n",
    "    [\"add_vapp\",\"chrome\"]\n",
    "])"
   ]
  },
  {
   "cell_type": "code",
   "execution_count": 36,
   "metadata": {},
   "outputs": [
    {
     "data": {
      "text/plain": [
       "{'chrome': <vapps.chrome.impl.ChromeVapp at 0x107ebab90>}"
      ]
     },
     "execution_count": 36,
     "metadata": {},
     "output_type": "execute_result"
    }
   ],
   "source": [
    "g_vapp_manager.ctx.get('manager').value.apps"
   ]
  },
  {
   "cell_type": "code",
   "execution_count": 37,
   "metadata": {},
   "outputs": [],
   "source": [
    "from vapps.vappmanager.commands import AddVApp\n",
    "g_vapp_manager.add_command(\"add_vapp\",AddVApp())"
   ]
  },
  {
   "cell_type": "code",
   "execution_count": 38,
   "metadata": {},
   "outputs": [
    {
     "name": "stdout",
     "output_type": "stream",
     "text": [
      "<vapps.vappmanager.commands.AddVApp object at 0x107e93490>\n",
      "store\n",
      "chrome\n",
      "Type of manager.apps: <class 'dict'>\n",
      "add app failed as it exists already\n"
     ]
    }
   ],
   "source": [
    "g_vapp_manager.execute_commands([\n",
    "    [\"add_vapp\",\"chrome\"]\n",
    "])\n"
   ]
  },
  {
   "cell_type": "code",
   "execution_count": 39,
   "metadata": {},
   "outputs": [
    {
     "data": {
      "text/plain": [
       "{'chrome': <vapps.chrome.impl.ChromeVapp at 0x107ebab90>}"
      ]
     },
     "execution_count": 39,
     "metadata": {},
     "output_type": "execute_result"
    }
   ],
   "source": [
    " g_vapp_manager.ctx.get(\"manager\").value.apps\n"
   ]
  },
  {
   "cell_type": "code",
   "execution_count": null,
   "metadata": {},
   "outputs": [],
   "source": []
  }
 ],
 "metadata": {
  "kernelspec": {
   "display_name": ".venv",
   "language": "python",
   "name": "python3"
  },
  "language_info": {
   "codemirror_mode": {
    "name": "ipython",
    "version": 3
   },
   "file_extension": ".py",
   "mimetype": "text/x-python",
   "name": "python",
   "nbconvert_exporter": "python",
   "pygments_lexer": "ipython3",
   "version": "3.11.7"
  }
 },
 "nbformat": 4,
 "nbformat_minor": 2
}
