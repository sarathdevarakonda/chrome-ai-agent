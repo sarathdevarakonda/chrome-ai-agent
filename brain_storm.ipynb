{
 "cells": [
  {
   "cell_type": "markdown",
   "metadata": {},
   "source": [
    "VappStore\n",
    "GlobalVappManager\n",
    "GlobalCommandManager\n",
    "VappManager\n",
    "Vapp\n",
    "VappContextD\n",
    "CommandPalatte\n",
    "\n",
    "\n",
    "\n",
    "Command\n",
    "CommandInputD\n",
    "CommandOutputD\n",
    "CommandHOutD\n",
    "CommandVOutD\n",
    "\n",
    "CommnadGroup\n",
    "\n",
    "CommandsParser\n",
    "CommandExecutor\n",
    "\n",
    "AICollaborator\n",
    "AIQuickHelper\n",
    "HumanCollaborator\n",
    "\n",
    "Assistant\n",
    "TaskExecutorLoop"
   ]
  },
  {
   "cell_type": "code",
   "execution_count": null,
   "metadata": {},
   "outputs": [],
   "source": [
    "import abc\n",
    "\n",
    "class IPrompt(abc.ABC):\n",
    "    \n",
    "    @abc.abstractmethod\n",
    "    def get_value(self):\n",
    "        pass\n",
    "\n",
    "class IAICollaborator(abc.ABC):\n",
    "    \n",
    "    @abc.abstractmethod\n",
    "    def send_message(self,prompt : IPrompt):\n",
    "        pass \n",
    "    \n"
   ]
  },
  {
   "cell_type": "code",
   "execution_count": null,
   "metadata": {},
   "outputs": [],
   "source": [
    "MarketPlace\n",
    "\n",
    "Vapp\n",
    "Plugin\n",
    "\n",
    "\n"
   ]
  },
  {
   "cell_type": "code",
   "execution_count": null,
   "metadata": {},
   "outputs": [],
   "source": [
    "[\"c1*c2+(c1)\"]\n",
    "(c1.e1039?a1(c1.e1039,c1):)+ (c1.e1049?a3(c1.e1049,c1):)\n",
    "\n",
    "\n",
    "When task type : XYZ, on error e1039 on command name\n",
    "\n",
    "Prompt Creation:\n",
    " \n",
    " I got this error can you show me lines of code where it doesnt work\n",
    " {c1.e1039}.\n",
    " Task: {task.detials}   \n",
    "    "
   ]
  },
  {
   "cell_type": "code",
   "execution_count": null,
   "metadata": {},
   "outputs": [],
   "source": [
    "Core Concepts\n",
    "\n",
    "* Vapps - Commands (create an vapp which can interact with os with full control)\n",
    "Vapp can be - Server, Client, FileSystem\n",
    "\n",
    "* CommandProcessing (special language to communicte between AI prompt and Vapps)\n",
    "\n",
    "\n",
    "*Collaboration Patterns\n",
    "\n",
    "\n",
    "*Task and Task Assignment - list of tasks, subtasks \n",
    "\n",
    "KPIs - key performanc indicators\n",
    "\n",
    "Task - number for progress\n",
    "  - Human 80% and AI 20 => 100\n",
    "  \n",
    "  \n",
    "Platform Restoration on any Issue\n",
    "\n",
    "Vapps will take memory  \n"
   ]
  },
  {
   "cell_type": "code",
   "execution_count": null,
   "metadata": {},
   "outputs": [],
   "source": [
    "{\n",
    "    \"chrome_click\": \"c1\",\n",
    "    \"chrome_send_keys\": \"c2\",\n",
    "    \"openai\": \"a1\",\n",
    "}\n",
    "c3 + ((c1 + c2)?c6:c5)\n",
    "\n",
    "a1(a3.l)\n",
    "\n",
    "\n",
    "do_run(beforeCommand, vapp_context, outputs)\n",
    "outputs[\"c1_file_name\"]\n",
    "outputs[\"\"]"
   ]
  },
  {
   "cell_type": "code",
   "execution_count": null,
   "metadata": {},
   "outputs": [],
   "source": [
    "AI1\n",
    "AI2\n",
    "AI3\n",
    "\n",
    "ContextThread ( technical term)\n",
    "\n",
    "\n",
    "Task 1, Task 2, Task 3\n",
    "\n",
    "Task 1, AI 1, ETA 10 secs, Move task 1 to pending and working by AI 1\n",
    "Task 2, AI 2, ETA 3 secs, Working by Ai 2,\n",
    "\n",
    "\n",
    "lets say I have 10 priority queues tasks.\n",
    " Now AI Collaborator does is \n",
    " \n",
    " if not task2Queue.empty:\n",
    "     t = task2Queue.pick()\n",
    " if not task3Queue.empty:\n",
    "     t = tas\n",
    " t = task1Queue.pick()\n",
    " process(t)\n",
    "\n",
    "\n",
    "\n",
    "Prompt - when, what, next steps, where\n"
   ]
  }
 ],
 "metadata": {
  "kernelspec": {
   "display_name": ".venv",
   "language": "python",
   "name": "python3"
  },
  "language_info": {
   "name": "python",
   "version": "3.11.7"
  }
 },
 "nbformat": 4,
 "nbformat_minor": 2
}
