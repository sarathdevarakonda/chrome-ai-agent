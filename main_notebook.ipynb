{
 "cells": [
  {
   "cell_type": "code",
   "execution_count": 15,
   "metadata": {},
   "outputs": [],
   "source": [
    "from selenium import webdriver\n",
    "from selenium.webdriver.common.by import By\n",
    "from selenium.webdriver.common.keys import Keys\n",
    "from selenium.webdriver.support.ui import WebDriverWait\n",
    "from selenium.webdriver.support import expected_conditions as EC\n",
    "\n",
    "import time"
   ]
  },
  {
   "cell_type": "code",
   "execution_count": 16,
   "metadata": {},
   "outputs": [],
   "source": [
    "%run gptautomator/chat_gpt_automator.py\n",
    "%run gptautomator/chat_gpt_session.py\n",
    "from gptautomator.chat_gpt_chrome import ChatGPTChrome\n"
   ]
  },
  {
   "cell_type": "code",
   "execution_count": 3,
   "metadata": {},
   "outputs": [],
   "source": [
    "%load_ext autoreload\n",
    "%autoreload 2"
   ]
  },
  {
   "cell_type": "code",
   "execution_count": null,
   "metadata": {},
   "outputs": [],
   "source": []
  },
  {
   "cell_type": "code",
   "execution_count": 19,
   "metadata": {},
   "outputs": [
    {
     "name": "stdout",
     "output_type": "stream",
     "text": [
      "Closing the browser...\n",
      "You need to manually complete the log-in or the human verification if required.\n"
     ]
    },
    {
     "name": "stderr",
     "output_type": "stream",
     "text": [
      "\n",
      "DevTools listening on ws://127.0.0.1:49222/devtools/browser/ae28724f-4294-42dc-847c-ba49b3f3224c\n",
      "INFO: Created TensorFlow Lite XNNPACK delegate for CPU.\n"
     ]
    },
    {
     "name": "stdout",
     "output_type": "stream",
     "text": [
      "Continuing with the automation process...\n"
     ]
    }
   ],
   "source": [
    "chat_gpt = ChatGPTChrome()"
   ]
  },
  {
   "cell_type": "code",
   "execution_count": 20,
   "metadata": {},
   "outputs": [],
   "source": [
    "chat_gpt.send_prompt_to_chatgpt(\"Hello, ChatGPT!\")"
   ]
  },
  {
   "cell_type": "code",
   "execution_count": 21,
   "metadata": {},
   "outputs": [],
   "source": [
    "\n",
    "class ChatGPTSession:\n",
    "    def __init__(self, gpt):\n",
    "        self.messages = []\n",
    "        self.gpt = gpt\n",
    "    \n",
    "    def is_any_conv(self):\n",
    "        return len(self.gpt.return_chatgpt_conversation()) > 0\n",
    "    \n",
    "    def ask(self, prompt):\n",
    "        self._submit_prompt(prompt['value'])\n",
    "        time.sleep(1)\n",
    "        while True:\n",
    "            send_buttons = self.gpt.driver.find_elements(By.CSS_SELECTOR,'button[data-testid=\"send-button\"]')\n",
    "            \n",
    "            if len(send_buttons) > 0:\n",
    "                return self.gpt.return_\n",
    "            time.sleep(1)\n",
    "\n",
    "    \n",
    "\n",
    "    def _submit_prompt(self, value):\n",
    "        self.gpt.send_prompt_to_chatgpt(value)\n",
    "        "
   ]
  },
  {
   "cell_type": "code",
   "execution_count": 22,
   "metadata": {},
   "outputs": [],
   "source": [
    "\n",
    "import csv\n",
    "from io import StringIO\n",
    "\n",
    "\n",
    "def get_page_tab_navigated_elements(driver):\n",
    "    prev_focused_element = None\n",
    "    initial_element = driver.find_element(By.TAG_NAME,\"body\")\n",
    "    # List to store data related to focused elements\n",
    "    data = []\n",
    "    elements = []\n",
    "    visited_elements = set()\n",
    "    \n",
    "    headers = ['ELEMENT_INDEX','TAG','TEXT', 'ID','NAME','INPUT_TYPE','VALUE','PLACEHOLDER','HREF', \"XPATH\"]\n",
    "    for i in range(50):\n",
    "        time.sleep(1)\n",
    "        initial_element.send_keys(Keys.TAB)\n",
    "        # Get the currently focused element\n",
    "        focused_element = driver.switch_to.active_element\n",
    "        elements.insert(i,focused_element)\n",
    "        # Extract relevant information\n",
    "        tag_name = focused_element.tag_name\n",
    "        class_name = focused_element.get_attribute(\"class\")\n",
    "        input_value = focused_element.get_attribute(\"value\")\n",
    "        id = focused_element.get_attribute(\"id\")\n",
    "        placeholder = focused_element.get_attribute(\"placeholder\")\n",
    "        name = focused_element.get_attribute(\"name\")\n",
    "        text = focused_element.text if tag_name != \"body\" else None\n",
    "        input_type = focused_element.get_attribute(\"type\") if tag_name == \"input\" else None\n",
    "        href = focused_element.get_attribute(\"href\") if tag_name == \"a\" else None\n",
    "        #xpath = driver.execute_script(\"return arguments[0].getXPath();\", focused_element)\n",
    "\n",
    "        data.append({\n",
    "            \"ELEMENT_INDEX\": i,\n",
    "            \"TAG\": tag_name,\n",
    "            \"TEXT\": text,\n",
    "            \"ID\": id,\n",
    "            \"NAME\": name,\n",
    "            \"VALUE\": input_value,\n",
    "            \"PLACEHOLDER\": placeholder,\n",
    "            \"INPUT_TYPE\": input_type,\n",
    "            \"HREF\": href,\n",
    "           # \"XPATH\": xpath\n",
    "        })\n",
    "        text_small = focused_element.text[:10] if tag_name != \"body\" else None\n",
    "        element_identifier = (tag_name,id,text_small,class_name)\n",
    "        if element_identifier in visited_elements:\n",
    "            break  # Exit loop if the element has been visited before\n",
    "        else:\n",
    "            visited_elements.add(element_identifier)\n",
    "\n",
    "     \n",
    "    csv_buffer = StringIO()\n",
    "    writer = csv.DictWriter(csv_buffer, fieldnames=headers)\n",
    "    writer.writeheader()\n",
    "    for item in data:\n",
    "        writer.writerow(item)\n",
    "\n",
    "    # Get CSV data as a string\n",
    "    csv_data = csv_buffer.getvalue()\n",
    "\n",
    "    initial_element.send_keys(Keys.CONTROL + 'l')\n",
    "    \n",
    "    return csv_data, elements"
   ]
  },
  {
   "cell_type": "code",
   "execution_count": 7,
   "metadata": {},
   "outputs": [],
   "source": [
    "get_xpath_script = \"\"\"\n",
    "function getXPath(element) {\n",
    "    if (element.id !== '') {\n",
    "        return 'id(\"' + element.id + '\")';\n",
    "    }\n",
    "    if (element === document.body) {\n",
    "        return element.tagName;\n",
    "    }\n",
    "    var ix = 0;\n",
    "    var siblings = element.parentNode.childNodes;\n",
    "    for (var i = 0; i < siblings.length; i++) {\n",
    "        var sibling = siblings[i];\n",
    "        if (sibling === element) {\n",
    "            return getXPath(element.parentNode) + '/' + element.tagName + '[' + (ix + 1) + ']';\n",
    "        }\n",
    "        if (sibling.nodeType === 1 && sibling.tagName === element.tagName) {\n",
    "            ix++;\n",
    "        }\n",
    "    }\n",
    "}\n",
    "\n",
    "// Define a global function to get XPath\n",
    "window.getXPath = getXPath;\n",
    "\"\"\""
   ]
  },
  {
   "cell_type": "code",
   "execution_count": 23,
   "metadata": {},
   "outputs": [],
   "source": [
    "p_driver = webdriver.Chrome()"
   ]
  },
  {
   "cell_type": "code",
   "execution_count": 24,
   "metadata": {},
   "outputs": [],
   "source": [
    "p_driver.get(\"https://amazon.jobs/en-gb/\")\n",
    "time.sleep(1)"
   ]
  },
  {
   "cell_type": "code",
   "execution_count": 10,
   "metadata": {},
   "outputs": [],
   "source": [
    "result = get_page_tab_navigated_elements(p_driver)\n",
    "page_elements_data, elements = result"
   ]
  },
  {
   "cell_type": "code",
   "execution_count": 11,
   "metadata": {},
   "outputs": [
    {
     "name": "stdout",
     "output_type": "stream",
     "text": [
      "ELEMENT_INDEX,TAG,TEXT,ID,NAME,INPUT_TYPE,VALUE,PLACEHOLDER,HREF,XPATH\n",
      "0,div,\"Notice of Right to Opt-Out Sharing\n",
      "Amazon Jobs uses cookies and similar tools such as pixels (collectively, “cookies”) for advertising purposes. The cookies collect and share information about you with third-parties to serve you with relevant advertisements and job recommendations based on your interactions with Amazon Jobs and third-party sites. California residents may exercise their right to opt-out of the sharing of information for advertising purposes by clicking toggling the buttons below. You can also manage your cookie preferences through the Cookie Preference Center.\n",
      "For more information about how we use cookies and information of how we collect cookies, please visit our Candidate Cookie Notice and Candidate Privacy Notice and the California supplement notice.\",,,,,,,\n",
      "1,button,Accept all,btn-accept-cookies,,,,,,\n",
      "2,button,Reject all,btn-reject-cookies,,,,,,\n",
      "3,div,Customize cookies,,,,,,,\n",
      "4,a,Customize cookies,btn-customize-cookies,,,,,,\n",
      "5,a,Skip to main content,skip-to-main-content-link,,,,,https://amazon.jobs/en-gb/#main-1708101551,\n",
      "6,a,,,,,,,javascript:void(0),\n",
      "7,a,Amazon Jobs home page,,,,,,https://amazon.jobs/en-gb,\n",
      "8,a,Your job application,,,,,,https://account.amazon.jobs/check_application_status,\n",
      "9,input,,search_typeahead,base_query,text,,Search for jobs,,\n",
      "10,input,,location-typeahead,,text,,Location,,\n",
      "11,button,,search-button,,,,,,\n",
      "12,a,View open jobs,,,,,,https://amazon.jobs/business_categories/student-programs,\n",
      "13,a,View open jobs,,,,,,https://amazon.jobs/landing_pages/hourly-jobs,\n",
      "\n"
     ]
    }
   ],
   "source": [
    "print(page_elements_data)"
   ]
  },
  {
   "cell_type": "code",
   "execution_count": 251,
   "metadata": {},
   "outputs": [],
   "source": [
    "elements[4].send_keys('Backend Developer')"
   ]
  },
  {
   "cell_type": "code",
   "execution_count": 17,
   "metadata": {},
   "outputs": [],
   "source": [
    "p_driver.quit()"
   ]
  },
  {
   "cell_type": "code",
   "execution_count": 25,
   "metadata": {},
   "outputs": [],
   "source": [
    "import json\n",
    "\n",
    "task_details = \"\"\" \n",
    "User Preferences for the application of job\n",
    "Locations: New York, Canada\n",
    "Job titles : Senior Software Engineer, Backend Developer\n",
    "\n",
    "Previously Completed Preferences:\n",
    "Location, Job Title\n",
    "New York, Backend Developer\n",
    "Canada,Senior Software Engineer\n",
    "\n",
    "\n",
    "Given below is the elements navigated with tab complete page and all elements of the webpage in CSV. The task is ANSWERS the QUESTIONS. \n",
    "The task is to apply for jobs in that given web page. You need to help me out to take actions using chrome selenium commands.\n",
    "Indices are references to selenium elements array. For before click commands, maintain sleep time of 2 seconds.\n",
    "Example: Lets say if I have search for jobs and select the location. Give response like below JSON FORMAT ONLY so that I can automate my tasks\n",
    "    {\n",
    "        \"actions : [\"elements[4].send_keys(\"Backend Developer\")\",\n",
    "                            \"elements[5].send_keys(\"New York\")\",\n",
    "                            \"time.sleep(2)\", \n",
    "                            \"elements[10].click()\"]\n",
    "        \"job_preferences\": {\n",
    "            \"location\" : \"New York\",\n",
    "            \"job_title\" : \"Backend Developer\"\n",
    "        }\n",
    "\n",
    "If there is any accept cookies to perform if present in page focus \n",
    "then add that action to the top example command to accept all cookies and add time.sleep(1)\n",
    "otherwise please DON'T ADD\n",
    "Eg:\n",
    " add \"elements[2].click()\",\n",
    " add \"time.sleep(1)\"\n",
    "\n",
    "WebPage Related Information\n",
    "\n",
    "Tab Navigated Elements CSV\n",
    "    \n",
    "\"\"\"\n",
    "prompt = f\"\"\"{task_details}\n",
    "    {page_elements_data}\n",
    "\"\"\"\n",
    "#prompt = prompt.replace(\"\\n\", \"\\\\n\")\n"
   ]
  },
  {
   "cell_type": "code",
   "execution_count": 26,
   "metadata": {},
   "outputs": [],
   "source": [
    "gptSession = ChatGPTSession(chat_gpt)"
   ]
  },
  {
   "cell_type": "code",
   "execution_count": 27,
   "metadata": {},
   "outputs": [
    {
     "ename": "AttributeError",
     "evalue": "'ChatGPTChrome' object has no attribute 'return_'",
     "output_type": "error",
     "traceback": [
      "\u001b[0;31m---------------------------------------------------------------------------\u001b[0m",
      "\u001b[0;31mAttributeError\u001b[0m                            Traceback (most recent call last)",
      "Cell \u001b[0;32mIn[27], line 1\u001b[0m\n\u001b[0;32m----> 1\u001b[0m gpt_response \u001b[38;5;241m=\u001b[39m \u001b[43mgptSession\u001b[49m\u001b[38;5;241;43m.\u001b[39;49m\u001b[43mask\u001b[49m\u001b[43m(\u001b[49m\u001b[43m{\u001b[49m\n\u001b[1;32m      2\u001b[0m \u001b[43m    \u001b[49m\u001b[38;5;124;43m\"\u001b[39;49m\u001b[38;5;124;43mvalue\u001b[39;49m\u001b[38;5;124;43m\"\u001b[39;49m\u001b[43m \u001b[49m\u001b[43m:\u001b[49m\u001b[43m \u001b[49m\u001b[43mjson\u001b[49m\u001b[38;5;241;43m.\u001b[39;49m\u001b[43mdumps\u001b[49m\u001b[43m(\u001b[49m\u001b[43mprompt\u001b[49m\u001b[43m)\u001b[49m\n\u001b[1;32m      3\u001b[0m \u001b[43m}\u001b[49m\u001b[43m)\u001b[49m\n\u001b[1;32m      4\u001b[0m gpt_resp_dict \u001b[38;5;241m=\u001b[39m json\u001b[38;5;241m.\u001b[39mloads(gpt_response)\n",
      "Cell \u001b[0;32mIn[21], line 16\u001b[0m, in \u001b[0;36mChatGPTSession.ask\u001b[0;34m(self, prompt)\u001b[0m\n\u001b[1;32m     13\u001b[0m send_buttons \u001b[38;5;241m=\u001b[39m \u001b[38;5;28mself\u001b[39m\u001b[38;5;241m.\u001b[39mgpt\u001b[38;5;241m.\u001b[39mdriver\u001b[38;5;241m.\u001b[39mfind_elements(By\u001b[38;5;241m.\u001b[39mCSS_SELECTOR,\u001b[38;5;124m'\u001b[39m\u001b[38;5;124mbutton[data-testid=\u001b[39m\u001b[38;5;124m\"\u001b[39m\u001b[38;5;124msend-button\u001b[39m\u001b[38;5;124m\"\u001b[39m\u001b[38;5;124m]\u001b[39m\u001b[38;5;124m'\u001b[39m)\n\u001b[1;32m     15\u001b[0m \u001b[38;5;28;01mif\u001b[39;00m \u001b[38;5;28mlen\u001b[39m(send_buttons) \u001b[38;5;241m>\u001b[39m \u001b[38;5;241m0\u001b[39m:\n\u001b[0;32m---> 16\u001b[0m     \u001b[38;5;28;01mreturn\u001b[39;00m \u001b[38;5;28;43mself\u001b[39;49m\u001b[38;5;241;43m.\u001b[39;49m\u001b[43mgpt\u001b[49m\u001b[38;5;241;43m.\u001b[39;49m\u001b[43mreturn_\u001b[49m\n\u001b[1;32m     17\u001b[0m time\u001b[38;5;241m.\u001b[39msleep(\u001b[38;5;241m1\u001b[39m)\n",
      "\u001b[0;31mAttributeError\u001b[0m: 'ChatGPTChrome' object has no attribute 'return_'"
     ]
    },
    {
     "name": "stderr",
     "output_type": "stream",
     "text": [
      "[17358:40451:0216/192426.889325:ERROR:connection_factory_impl.cc(471)] ConnectionHandler failed with net error: -2\n",
      "[17358:40451:0216/195202.080798:ERROR:connection_factory_impl.cc(471)] ConnectionHandler failed with net error: -2\n",
      "[17358:40451:0216/200835.568555:ERROR:mcs_client.cc(749)] Received close command, resetting connection.\n",
      "[17358:40451:0216/221509.661318:ERROR:connection_factory_impl.cc(471)] ConnectionHandler failed with net error: -2\n",
      "[17358:40451:0216/224938.572482:ERROR:connection_factory_impl.cc(471)] ConnectionHandler failed with net error: -2\n",
      "[17358:40451:0216/232435.544808:ERROR:connection_factory_impl.cc(471)] ConnectionHandler failed with net error: -2\n",
      "[17358:40451:0217/030225.489789:ERROR:connection_factory_impl.cc(471)] ConnectionHandler failed with net error: -2\n",
      "[17358:40451:0217/033844.807086:ERROR:connection_factory_impl.cc(471)] ConnectionHandler failed with net error: -2\n",
      "[17358:40451:0217/041223.850882:ERROR:connection_factory_impl.cc(471)] ConnectionHandler failed with net error: -2\n",
      "[17358:40451:0217/044924.568216:ERROR:connection_factory_impl.cc(471)] ConnectionHandler failed with net error: -2\n",
      "[17358:40451:0217/052428.661086:ERROR:connection_factory_impl.cc(471)] ConnectionHandler failed with net error: -2\n",
      "[17358:40451:0217/060429.212938:ERROR:connection_factory_impl.cc(471)] ConnectionHandler failed with net error: -2\n",
      "[17358:40451:0217/064130.574304:ERROR:connection_factory_impl.cc(471)] ConnectionHandler failed with net error: -2\n",
      "[17358:40451:0217/071458.350525:ERROR:connection_factory_impl.cc(471)] ConnectionHandler failed with net error: -2\n",
      "[17358:40451:0217/075347.829216:ERROR:connection_factory_impl.cc(471)] ConnectionHandler failed with net error: -2\n",
      "[17358:40451:0217/090118.416998:ERROR:connection_factory_impl.cc(471)] ConnectionHandler failed with net error: -2\n",
      "[17358:40451:0217/090148.153141:ERROR:connection_factory_impl.cc(471)] ConnectionHandler failed with net error: -2\n",
      "[17358:40451:0217/093700.683210:ERROR:connection_factory_impl.cc(471)] ConnectionHandler failed with net error: -2\n",
      "[17358:40451:0217/101314.608046:ERROR:connection_factory_impl.cc(471)] ConnectionHandler failed with net error: -2\n",
      "[17358:40451:0217/105337.301516:ERROR:connection_factory_impl.cc(471)] ConnectionHandler failed with net error: -2\n",
      "[17358:40451:0217/112737.171488:ERROR:connection_factory_impl.cc(471)] ConnectionHandler failed with net error: -2\n",
      "[17358:40451:0217/115535.314240:ERROR:connection_factory_impl.cc(471)] ConnectionHandler failed with net error: -2\n",
      "[17358:40451:0217/123814.833946:ERROR:connection_factory_impl.cc(471)] ConnectionHandler failed with net error: -2\n",
      "[17358:40451:0217/131931.396414:ERROR:connection_factory_impl.cc(471)] ConnectionHandler failed with net error: -2\n",
      "[17358:40451:0217/135623.917135:ERROR:connection_factory_impl.cc(471)] ConnectionHandler failed with net error: -2\n",
      "[17358:40451:0217/142049.533177:ERROR:connection_factory_impl.cc(471)] ConnectionHandler failed with net error: -2\n",
      "[17358:40451:0217/145707.340733:ERROR:connection_factory_impl.cc(471)] ConnectionHandler failed with net error: -2\n",
      "[17364:31747:0217/152509.193036:ERROR:display_link_mac.cc(228)] CVDisplayLinkCreateWithCGDisplay failed. CVReturn: -6670\n"
     ]
    }
   ],
   "source": [
    "gpt_response = gptSession.ask({\n",
    "    \"value\" : json.dumps(prompt)\n",
    "})\n",
    "gpt_resp_dict = json.loads(gpt_response)\n"
   ]
  },
  {
   "cell_type": "code",
   "execution_count": 16,
   "metadata": {},
   "outputs": [
    {
     "ename": "NameError",
     "evalue": "name 'gpt_resp_dict' is not defined",
     "output_type": "error",
     "traceback": [
      "\u001b[0;31m---------------------------------------------------------------------------\u001b[0m",
      "\u001b[0;31mNameError\u001b[0m                                 Traceback (most recent call last)",
      "Cell \u001b[0;32mIn[16], line 1\u001b[0m\n\u001b[0;32m----> 1\u001b[0m actions \u001b[38;5;241m=\u001b[39m \u001b[43mgpt_resp_dict\u001b[49m[\u001b[38;5;124m'\u001b[39m\u001b[38;5;124mactions\u001b[39m\u001b[38;5;124m'\u001b[39m]\n\u001b[1;32m      2\u001b[0m exec(actions[\u001b[38;5;241m0\u001b[39m])\n",
      "\u001b[0;31mNameError\u001b[0m: name 'gpt_resp_dict' is not defined"
     ]
    }
   ],
   "source": [
    "actions = gpt_resp_dict['actions']\n",
    "exec(actions[0])"
   ]
  },
  {
   "cell_type": "code",
   "execution_count": 18,
   "metadata": {},
   "outputs": [
    {
     "name": "stdout",
     "output_type": "stream",
     "text": [
      "Closing the browser...\n"
     ]
    }
   ],
   "source": [
    "chat_gpt.quit()"
   ]
  }
 ],
 "metadata": {
  "kernelspec": {
   "display_name": ".venv",
   "language": "python",
   "name": "python3"
  },
  "language_info": {
   "codemirror_mode": {
    "name": "ipython",
    "version": 3
   },
   "file_extension": ".py",
   "mimetype": "text/x-python",
   "name": "python",
   "nbconvert_exporter": "python",
   "pygments_lexer": "ipython3",
   "version": "3.11.7"
  }
 },
 "nbformat": 4,
 "nbformat_minor": 2
}
