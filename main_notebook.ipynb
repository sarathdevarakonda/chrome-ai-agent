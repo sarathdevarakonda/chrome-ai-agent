{
 "cells": [
  {
   "cell_type": "code",
   "execution_count": null,
   "metadata": {},
   "outputs": [],
   "source": [
    "from selenium import webdriver\n",
    "from selenium.webdriver.common.by import By\n",
    "from selenium.webdriver.common.keys import Keys\n",
    "from selenium.webdriver.support.ui import WebDriverWait\n",
    "from selenium.webdriver.support import expected_conditions as EC\n",
    "\n",
    "import time"
   ]
  },
  {
   "cell_type": "code",
   "execution_count": null,
   "metadata": {},
   "outputs": [],
   "source": [
    "%run gptautomator/chat_gpt_automator.py\n",
    "%run gptautomator/chat_gpt_session.py\n",
    "from gptautomator.chat_gpt_chrome import ChatGPTChrome\n"
   ]
  },
  {
   "cell_type": "code",
   "execution_count": null,
   "metadata": {},
   "outputs": [
    {
     "name": "stdout",
     "output_type": "stream",
     "text": [
      "The autoreload extension is already loaded. To reload it, use:\n",
      "  %reload_ext autoreload\n"
     ]
    }
   ],
   "source": [
    "%load_ext autoreload\n",
    "%autoreload 2"
   ]
  },
  {
   "cell_type": "code",
   "execution_count": null,
   "metadata": {},
   "outputs": [],
   "source": []
  },
  {
   "cell_type": "code",
   "execution_count": 9,
   "metadata": {},
   "outputs": [
    {
     "name": "stdout",
     "output_type": "stream",
     "text": [
      "Closing the browser...\n",
      "You need to manually complete the log-in or the human verification if required.\n"
     ]
    },
    {
     "name": "stderr",
     "output_type": "stream",
     "text": [
      "\n",
      "DevTools listening on ws://127.0.0.1:53812/devtools/browser/0722c5cd-2114-4b96-9970-559854afba5b\n",
      "INFO: Created TensorFlow Lite XNNPACK delegate for CPU.\n"
     ]
    },
    {
     "name": "stdout",
     "output_type": "stream",
     "text": [
      "Continuing with the automation process...\n"
     ]
    }
   ],
   "source": [
    "chat_gpt = ChatGPTChrome()"
   ]
  },
  {
   "cell_type": "code",
   "execution_count": 10,
   "metadata": {},
   "outputs": [],
   "source": [
    "chat_gpt.send_prompt_to_chatgpt(\"Hello, ChatGPT!\")"
   ]
  },
  {
   "cell_type": "code",
   "execution_count": 11,
   "metadata": {},
   "outputs": [],
   "source": [
    "\n",
    "class ChatGPTSession:\n",
    "    def __init__(self, gpt):\n",
    "        self.messages = []\n",
    "        self.gpt = gpt\n",
    "    \n",
    "    def is_any_conv(self):\n",
    "        return len(self.gpt.return_chatgpt_conversation()) > 0\n",
    "    \n",
    "    def ask(self, prompt):\n",
    "        self._submit_prompt(prompt['value'])\n",
    "        time.sleep(1)\n",
    "        while True:\n",
    "            send_buttons = self.gpt.driver.find_elements(By.CSS_SELECTOR,'button[data-testid=\"send-button\"]')\n",
    "            \n",
    "            if len(send_buttons) > 0:\n",
    "                return self.gpt.return_last_response()\n",
    "            time.sleep(1)\n",
    "\n",
    "    \n",
    "\n",
    "    def _submit_prompt(self, value):\n",
    "        self.gpt.send_prompt_to_chatgpt(value)\n",
    "        "
   ]
  },
  {
   "cell_type": "code",
   "execution_count": 12,
   "metadata": {},
   "outputs": [],
   "source": [
    "\n",
    "import csv\n",
    "from io import StringIO\n",
    "\n",
    "\n",
    "def get_page_tab_navigated_elements(driver):\n",
    "    prev_focused_element = None\n",
    "    initial_element = driver.find_element(By.TAG_NAME,\"body\")\n",
    "    # List to store data related to focused elements\n",
    "    data = []\n",
    "    elements = []\n",
    "    visited_elements = set()\n",
    "    \n",
    "    headers = ['ELEMENT_INDEX','TAG','TEXT', 'ID','NAME','INPUT_TYPE','VALUE','PLACEHOLDER','HREF', \"XPATH\"]\n",
    "    for i in range(50):\n",
    "        time.sleep(1)\n",
    "        initial_element.send_keys(Keys.TAB)\n",
    "        # Get the currently focused element\n",
    "        focused_element = driver.switch_to.active_element\n",
    "        elements.insert(i,focused_element)\n",
    "        # Extract relevant information\n",
    "        tag_name = focused_element.tag_name\n",
    "        class_name = focused_element.get_attribute(\"class\")\n",
    "        input_value = focused_element.get_attribute(\"value\")\n",
    "        id = focused_element.get_attribute(\"id\")\n",
    "        placeholder = focused_element.get_attribute(\"placeholder\")\n",
    "        name = focused_element.get_attribute(\"name\")\n",
    "        text = focused_element.text if tag_name != \"body\" else None\n",
    "        input_type = focused_element.get_attribute(\"type\") if tag_name == \"input\" else None\n",
    "        href = focused_element.get_attribute(\"href\") if tag_name == \"a\" else None\n",
    "        #xpath = driver.execute_script(\"return arguments[0].getXPath();\", focused_element)\n",
    "\n",
    "        data.append({\n",
    "            \"ELEMENT_INDEX\": i,\n",
    "            \"TAG\": tag_name,\n",
    "            \"TEXT\": text,\n",
    "            \"ID\": id,\n",
    "            \"NAME\": name,\n",
    "            \"VALUE\": input_value,\n",
    "            \"PLACEHOLDER\": placeholder,\n",
    "            \"INPUT_TYPE\": input_type,\n",
    "            \"HREF\": href,\n",
    "           # \"XPATH\": xpath\n",
    "        })\n",
    "        text_small = focused_element.text[:10] if tag_name != \"body\" else None\n",
    "        element_identifier = (tag_name,id,text_small,class_name)\n",
    "        if element_identifier in visited_elements:\n",
    "            break  # Exit loop if the element has been visited before\n",
    "        else:\n",
    "            visited_elements.add(element_identifier)\n",
    "\n",
    "     \n",
    "    csv_buffer = StringIO()\n",
    "    writer = csv.DictWriter(csv_buffer, fieldnames=headers)\n",
    "    writer.writeheader()\n",
    "    for item in data:\n",
    "        writer.writerow(item)\n",
    "\n",
    "    # Get CSV data as a string\n",
    "    csv_data = csv_buffer.getvalue()\n",
    "\n",
    "    initial_element.send_keys(Keys.CONTROL + 'l')\n",
    "    \n",
    "    return csv_data, elements"
   ]
  },
  {
   "cell_type": "code",
   "execution_count": 13,
   "metadata": {},
   "outputs": [],
   "source": [
    "get_xpath_script = \"\"\"\n",
    "function getXPath(element) {\n",
    "    if (element.id !== '') {\n",
    "        return 'id(\"' + element.id + '\")';\n",
    "    }\n",
    "    if (element === document.body) {\n",
    "        return element.tagName;\n",
    "    }\n",
    "    var ix = 0;\n",
    "    var siblings = element.parentNode.childNodes;\n",
    "    for (var i = 0; i < siblings.length; i++) {\n",
    "        var sibling = siblings[i];\n",
    "        if (sibling === element) {\n",
    "            return getXPath(element.parentNode) + '/' + element.tagName + '[' + (ix + 1) + ']';\n",
    "        }\n",
    "        if (sibling.nodeType === 1 && sibling.tagName === element.tagName) {\n",
    "            ix++;\n",
    "        }\n",
    "    }\n",
    "}\n",
    "\n",
    "// Define a global function to get XPath\n",
    "window.getXPath = getXPath;\n",
    "\"\"\""
   ]
  },
  {
   "cell_type": "code",
   "execution_count": 14,
   "metadata": {},
   "outputs": [],
   "source": [
    "p_driver = webdriver.Chrome()"
   ]
  },
  {
   "cell_type": "code",
   "execution_count": 16,
   "metadata": {},
   "outputs": [],
   "source": [
    "p_driver.get(\"https://amazon.jobs/en-gb/\")\n",
    "time.sleep(1)"
   ]
  },
  {
   "cell_type": "code",
   "execution_count": 17,
   "metadata": {},
   "outputs": [],
   "source": [
    "result = get_page_tab_navigated_elements(p_driver)\n",
    "page_elements_data, elements = result"
   ]
  },
  {
   "cell_type": "code",
   "execution_count": 18,
   "metadata": {},
   "outputs": [
    {
     "name": "stdout",
     "output_type": "stream",
     "text": [
      "ELEMENT_INDEX,TAG,TEXT,ID,NAME,INPUT_TYPE,VALUE,PLACEHOLDER,HREF,XPATH\n",
      "0,div,\"Notice of Right to Opt-Out Sharing\n",
      "Amazon Jobs uses cookies and similar tools such as pixels (collectively, “cookies”) for advertising purposes. The cookies collect and share information about you with third-parties to serve you with relevant advertisements and job recommendations based on your interactions with Amazon Jobs and third-party sites. California residents may exercise their right to opt-out of the sharing of information for advertising purposes by clicking toggling the buttons below. You can also manage your cookie preferences through the Cookie Preference Center.\n",
      "For more information about how we use cookies and information of how we collect cookies, please visit our Candidate Cookie Notice and Candidate Privacy Notice and the California supplement notice.\",,,,,,,\n",
      "1,button,Accept all,btn-accept-cookies,,,,,,\n",
      "2,button,Reject all,btn-reject-cookies,,,,,,\n",
      "3,div,Customize cookies,,,,,,,\n",
      "4,a,Customize cookies,btn-customize-cookies,,,,,,\n",
      "5,a,Skip to main content,skip-to-main-content-link,,,,,https://amazon.jobs/en-gb/#main-1713132944,\n",
      "6,a,,,,,,,javascript:void(0),\n",
      "7,a,Amazon Jobs home page,,,,,,https://amazon.jobs/en-gb,\n",
      "8,a,Your job application,,,,,,https://account.amazon.jobs/check_application_status,\n",
      "9,input,,search_typeahead,base_query,text,,Search for jobs,,\n",
      "10,input,,location-typeahead,,text,,Location,,\n",
      "11,button,,search-button,,,,,,\n",
      "12,a,View open jobs,,,,,,https://amazon.jobs/business_categories/student-programs,\n",
      "13,a,View open jobs,,,,,,https://amazon.jobs/landing_pages/hourly-jobs,\n",
      "\n"
     ]
    }
   ],
   "source": [
    "print(page_elements_data)"
   ]
  },
  {
   "cell_type": "code",
   "execution_count": 17,
   "metadata": {},
   "outputs": [],
   "source": [
    "p_driver.quit()"
   ]
  },
  {
   "cell_type": "code",
   "execution_count": 26,
   "metadata": {},
   "outputs": [],
   "source": [
    "import json\n",
    "\n",
    "task_details = \"\"\" \n",
    "User Preferences for the application of job\n",
    "Locations: New York, Canada\n",
    "Job titles : Senior Software Engineer, Backend Developer\n",
    "\n",
    "Previously Completed Preferences:\n",
    "Location, Job Title\n",
    "New York, Backend Developer\n",
    "Canada,Senior Software Engineer\n",
    "\n",
    "\n",
    "Given below is the elements navigated with tab complete page and all elements of the webpage in CSV. The task is ANSWERS the QUESTIONS. \n",
    "The task is to apply for jobs in that given web page. You need to help me out to take actions using chrome selenium commands.\n",
    "Indices are references to selenium elements array. For before click commands, maintain sleep time of 2 seconds.\n",
    "\n",
    "Example: Lets say if I have search for jobs and select the location. Give response like below JSON FORMAT ONLY so that I can automate my tasks\n",
    "    {\n",
    "        \"actions : [\"elements[4].send_keys(\"Backend Developer\")\",\n",
    "                            \"elements[5].send_keys(\"New York\")\",\n",
    "                            \"time.sleep(2)\", \n",
    "                            \"elements[10].click()\"]\n",
    "        \"job_preferences\": {\n",
    "            \"location\" : \"New York\",\n",
    "            \"job_title\" : \"Backend Developer\"\n",
    "        }\n",
    "\n",
    "DO NOT ADD ANY COMMENTS IN JSON AS I HAVE TO PARSE THE RESPONSE FOR USAGE. PLEASE KEEP IN MIND\n",
    "\n",
    "If there is any accept cookies to perform if present in page focus \n",
    "then add that action to the top example command to accept all cookies and add time.sleep(1)\n",
    "otherwise please DON'T ADD\n",
    "Eg:\n",
    " add \"elements[2].click()\",\n",
    " add \"time.sleep(1)\"\n",
    "\n",
    "WebPage Related Information\n",
    "\n",
    "Tab Navigated Elements CSV\n",
    "    \n",
    "\"\"\"\n",
    "prompt = f\"\"\"{task_details}\n",
    "    {page_elements_data}\n",
    "\"\"\"\n",
    "#prompt = prompt.replace(\"\\n\", \"\\\\n\")\n"
   ]
  },
  {
   "cell_type": "code",
   "execution_count": 21,
   "metadata": {},
   "outputs": [],
   "source": [
    "gptSession = ChatGPTSession(chat_gpt)"
   ]
  },
  {
   "cell_type": "code",
   "execution_count": 27,
   "metadata": {},
   "outputs": [],
   "source": [
    "gpt_response = gptSession.ask({\n",
    "    \"value\" : json.dumps(prompt)\n",
    "})\n",
    "\n",
    "gpt_resp_dict = json.loads(gpt_response)\n"
   ]
  },
  {
   "cell_type": "code",
   "execution_count": 25,
   "metadata": {},
   "outputs": [
    {
     "name": "stdout",
     "output_type": "stream",
     "text": [
      "{\n",
      "    \"actions\": [\n",
      "        \"elements[1].click()\",  // Accept all cookies\n",
      "        \"time.sleep(1)\",  // Sleep for 1 second after accepting cookies\n",
      "        \"elements[9].send_keys(\\\"Backend Developer\\\")\",  // Input job title\n",
      "        \"elements[10].send_keys(\\\"New York\\\")\",  // Input location\n",
      "        \"time.sleep(2)\",  // Sleep for 2 seconds\n",
      "        \"elements[11].click()\"  // Click the search button\n",
      "    ],\n",
      "    \"job_preferences\": {\n",
      "        \"location\": \"New York\",\n",
      "        \"job_title\": \"Backend Developer\"\n",
      "    }\n",
      "}\n"
     ]
    }
   ],
   "source": [
    "print(gpt_response)"
   ]
  },
  {
   "cell_type": "code",
   "execution_count": 32,
   "metadata": {},
   "outputs": [
    {
     "name": "stderr",
     "output_type": "stream",
     "text": [
      "[6787:36611:0414/205524.360289:ERROR:connection_factory_impl.cc(483)] ConnectionHandler failed with net error: -2\n",
      "[6787:36611:0414/212757.207270:ERROR:connection_factory_impl.cc(483)] ConnectionHandler failed with net error: -2\n",
      "[6787:36611:0414/220443.138865:ERROR:connection_factory_impl.cc(483)] ConnectionHandler failed with net error: -2\n",
      "[6787:36611:0414/224034.175298:ERROR:connection_factory_impl.cc(483)] ConnectionHandler failed with net error: -2\n",
      "[6787:36611:0414/234115.541176:ERROR:connection_factory_impl.cc(483)] ConnectionHandler failed with net error: -2\n",
      "[6787:36611:0415/001636.673283:ERROR:connection_factory_impl.cc(483)] ConnectionHandler failed with net error: -2\n",
      "[6787:36611:0415/012046.528335:ERROR:connection_factory_impl.cc(483)] ConnectionHandler failed with net error: -2\n",
      "[6787:36611:0415/020115.588018:ERROR:connection_factory_impl.cc(483)] ConnectionHandler failed with net error: -2\n",
      "[6787:36611:0415/023914.613501:ERROR:connection_factory_impl.cc(483)] ConnectionHandler failed with net error: -2\n",
      "[6787:36611:0415/031708.947937:ERROR:connection_factory_impl.cc(483)] ConnectionHandler failed with net error: -2\n",
      "[6787:36611:0415/035328.738973:ERROR:connection_factory_impl.cc(483)] ConnectionHandler failed with net error: -2\n",
      "[6787:36611:0415/042852.927528:ERROR:connection_factory_impl.cc(483)] ConnectionHandler failed with net error: -2\n",
      "[6787:36611:0415/050220.361254:ERROR:connection_factory_impl.cc(483)] ConnectionHandler failed with net error: -2\n",
      "[6787:36611:0415/054254.606867:ERROR:connection_factory_impl.cc(483)] ConnectionHandler failed with net error: -2\n",
      "[6787:36611:0415/061624.050482:ERROR:connection_factory_impl.cc(483)] ConnectionHandler failed with net error: -2\n",
      "[6787:36611:0415/065025.149094:ERROR:connection_factory_impl.cc(483)] ConnectionHandler failed with net error: -2\n",
      "[6787:36611:0415/072808.286983:ERROR:connection_factory_impl.cc(483)] ConnectionHandler failed with net error: -2\n",
      "[6787:36611:0415/080003.828647:ERROR:connection_factory_impl.cc(483)] ConnectionHandler failed with net error: -2\n",
      "[6787:36611:0415/083359.948209:ERROR:connection_factory_impl.cc(483)] ConnectionHandler failed with net error: -2\n",
      "[6787:36611:0415/090803.859188:ERROR:connection_factory_impl.cc(483)] ConnectionHandler failed with net error: -2\n",
      "[6787:36611:0415/090833.647274:ERROR:connection_factory_impl.cc(483)] ConnectionHandler failed with net error: -2\n",
      "[6787:36611:0415/094625.431912:ERROR:connection_factory_impl.cc(483)] ConnectionHandler failed with net error: -2\n",
      "[6787:36611:0415/101704.298568:ERROR:connection_factory_impl.cc(483)] ConnectionHandler failed with net error: -2\n",
      "[6787:36611:0415/111809.546851:ERROR:connection_factory_impl.cc(483)] ConnectionHandler failed with net error: -2\n",
      "[6787:36611:0415/171721.197455:ERROR:connection_factory_impl.cc(483)] ConnectionHandler failed with net error: -2\n",
      "[6787:36611:0415/174452.499371:ERROR:connection_factory_impl.cc(483)] ConnectionHandler failed with net error: -2\n",
      "[6787:36611:0416/020048.673053:ERROR:connection_factory_impl.cc(483)] ConnectionHandler failed with net error: -2\n",
      "[6787:36611:0416/033058.972178:ERROR:connection_factory_impl.cc(483)] ConnectionHandler failed with net error: -2\n",
      "[6787:36611:0416/033108.578480:ERROR:connection_factory_impl.cc(434)] Failed to connect to MCS endpoint with error -105\n",
      "[6787:36611:0416/033117.065492:ERROR:connection_factory_impl.cc(434)] Failed to connect to MCS endpoint with error -105\n",
      "[6787:36611:0416/033117.717352:ERROR:connection_factory_impl.cc(434)] Failed to connect to MCS endpoint with error -106\n",
      "[6787:36611:0416/040732.786641:ERROR:connection_factory_impl.cc(483)] ConnectionHandler failed with net error: -2\n",
      "[6787:36611:0416/044644.170653:ERROR:connection_factory_impl.cc(483)] ConnectionHandler failed with net error: -2\n",
      "[6787:36611:0416/052111.926328:ERROR:connection_factory_impl.cc(483)] ConnectionHandler failed with net error: -2\n",
      "[6787:36611:0416/055832.968145:ERROR:connection_factory_impl.cc(483)] ConnectionHandler failed with net error: -2\n",
      "[6787:36611:0416/063313.813307:ERROR:connection_factory_impl.cc(483)] ConnectionHandler failed with net error: -2\n",
      "[6787:36611:0416/071023.889314:ERROR:connection_factory_impl.cc(483)] ConnectionHandler failed with net error: -2\n",
      "[6787:36611:0416/074400.612068:ERROR:connection_factory_impl.cc(483)] ConnectionHandler failed with net error: -2\n",
      "[6787:36611:0416/081630.756124:ERROR:connection_factory_impl.cc(483)] ConnectionHandler failed with net error: -2\n",
      "[6787:36611:0416/085046.332619:ERROR:connection_factory_impl.cc(483)] ConnectionHandler failed with net error: -2\n",
      "[6787:36611:0416/092706.198804:ERROR:connection_factory_impl.cc(483)] ConnectionHandler failed with net error: -2\n",
      "[6787:36611:0416/100118.768775:ERROR:connection_factory_impl.cc(483)] ConnectionHandler failed with net error: -2\n",
      "[6787:36611:0416/103549.209329:ERROR:connection_factory_impl.cc(483)] ConnectionHandler failed with net error: -2\n",
      "[6787:36611:0416/145203.235709:ERROR:connection_factory_impl.cc(483)] ConnectionHandler failed with net error: -2\n",
      "[6787:36611:0416/152756.821648:ERROR:connection_factory_impl.cc(483)] ConnectionHandler failed with net error: -2\n",
      "[6787:36611:0416/174703.974238:ERROR:mcs_client.cc(749)] Received close command, resetting connection.\n",
      "[6787:36611:0416/225812.634323:ERROR:mcs_client.cc(749)] Received close command, resetting connection.\n",
      "[6787:36611:0417/023114.127152:ERROR:connection_factory_impl.cc(483)] ConnectionHandler failed with net error: -2\n",
      "[6787:36611:0417/030700.578552:ERROR:connection_factory_impl.cc(483)] ConnectionHandler failed with net error: -2\n",
      "[6787:36611:0417/034146.042431:ERROR:connection_factory_impl.cc(483)] ConnectionHandler failed with net error: -2\n",
      "[6787:36611:0417/041712.179563:ERROR:connection_factory_impl.cc(483)] ConnectionHandler failed with net error: -2\n",
      "[6787:36611:0417/045310.657957:ERROR:connection_factory_impl.cc(483)] ConnectionHandler failed with net error: -2\n",
      "[6787:36611:0417/052616.915829:ERROR:connection_factory_impl.cc(483)] ConnectionHandler failed with net error: -2\n",
      "[6787:36611:0417/055422.385906:ERROR:connection_factory_impl.cc(483)] ConnectionHandler failed with net error: -2\n",
      "[6787:36611:0417/062939.559525:ERROR:connection_factory_impl.cc(483)] ConnectionHandler failed with net error: -2\n",
      "[6787:36611:0417/073743.160898:ERROR:connection_factory_impl.cc(483)] ConnectionHandler failed with net error: -2\n",
      "[6787:36611:0417/082021.748426:ERROR:connection_factory_impl.cc(483)] ConnectionHandler failed with net error: -2\n",
      "[6787:36611:0417/085549.528816:ERROR:connection_factory_impl.cc(483)] ConnectionHandler failed with net error: -2\n",
      "[6787:36611:0417/090107.786159:ERROR:connection_factory_impl.cc(483)] ConnectionHandler failed with net error: -2\n",
      "[6787:36611:0417/093919.783045:ERROR:connection_factory_impl.cc(483)] ConnectionHandler failed with net error: -2\n",
      "[6787:36611:0417/110442.299623:ERROR:connection_factory_impl.cc(483)] ConnectionHandler failed with net error: -2\n",
      "[6787:36611:0417/113954.095258:ERROR:connection_factory_impl.cc(483)] ConnectionHandler failed with net error: -2\n",
      "[6787:36611:0417/163504.492408:ERROR:mcs_client.cc(749)] Received close command, resetting connection.\n",
      "[6787:36611:0418/013935.890650:ERROR:connection_factory_impl.cc(483)] ConnectionHandler failed with net error: -2\n",
      "[6787:36611:0418/015650.070490:ERROR:connection_factory_impl.cc(483)] ConnectionHandler failed with net error: -2\n",
      "[6787:36611:0418/022512.787088:ERROR:connection_factory_impl.cc(483)] ConnectionHandler failed with net error: -2\n",
      "[6787:36611:0418/025756.710448:ERROR:connection_factory_impl.cc(483)] ConnectionHandler failed with net error: -2\n",
      "[6787:36611:0418/032555.425170:ERROR:connection_factory_impl.cc(483)] ConnectionHandler failed with net error: -2\n",
      "[6787:36611:0418/032607.875740:ERROR:connection_factory_impl.cc(483)] ConnectionHandler failed with net error: -2\n"
     ]
    }
   ],
   "source": [
    "actions = gpt_resp_dict['actions']\n",
    "exec(actions[3])"
   ]
  },
  {
   "cell_type": "code",
   "execution_count": 18,
   "metadata": {},
   "outputs": [
    {
     "name": "stdout",
     "output_type": "stream",
     "text": [
      "Closing the browser...\n"
     ]
    }
   ],
   "source": [
    "chat_gpt.quit()"
   ]
  },
  {
   "cell_type": "code",
   "execution_count": 30,
   "metadata": {},
   "outputs": [
    {
     "data": {
      "text/plain": [
       "<selenium.webdriver.remote.webelement.WebElement (session=\"ab3321edcafecd6455e417e6a553382c\", element=\"f.83B4A9C52C3C3A317B2D63203E45D186.d.F6B908712003119424887C34AD63034D.e.346\")>"
      ]
     },
     "execution_count": 30,
     "metadata": {},
     "output_type": "execute_result"
    }
   ],
   "source": [
    "elements[0]"
   ]
  },
  {
   "cell_type": "code",
   "execution_count": null,
   "metadata": {},
   "outputs": [],
   "source": []
  }
 ],
 "metadata": {
  "kernelspec": {
   "display_name": ".venv",
   "language": "python",
   "name": "python3"
  },
  "language_info": {
   "codemirror_mode": {
    "name": "ipython",
    "version": 3
   },
   "file_extension": ".py",
   "mimetype": "text/x-python",
   "name": "python",
   "nbconvert_exporter": "python",
   "pygments_lexer": "ipython3",
   "version": "3.11.7"
  }
 },
 "nbformat": 4,
 "nbformat_minor": 2
}
